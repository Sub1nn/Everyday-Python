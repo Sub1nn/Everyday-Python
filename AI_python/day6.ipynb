{
 "cells": [
  {
   "cell_type": "code",
   "execution_count": 6,
   "id": "a510186c",
   "metadata": {},
   "outputs": [],
   "source": [
    "import sqlite3"
   ]
  },
  {
   "cell_type": "code",
   "execution_count": 7,
   "id": "58b85511",
   "metadata": {},
   "outputs": [],
   "source": [
    "con = sqlite3.connect('students1.sqlite3')"
   ]
  },
  {
   "cell_type": "code",
   "execution_count": 8,
   "id": "68245197",
   "metadata": {},
   "outputs": [],
   "source": [
    "cur = con.cursor()"
   ]
  },
  {
   "cell_type": "code",
   "execution_count": 9,
   "id": "ffc78efb",
   "metadata": {},
   "outputs": [
    {
     "data": {
      "text/plain": [
       "<sqlite3.Cursor at 0x1044312c0>"
      ]
     },
     "execution_count": 9,
     "metadata": {},
     "output_type": "execute_result"
    }
   ],
   "source": [
    "create_table_query = '''\n",
    "\n",
    "CREATE TABLE student(\n",
    "    id int primary key,\n",
    "    name varchar not null,\n",
    "    address varchar not null,\n",
    "    college varchar not null,\n",
    "    age int not null,\n",
    "    gender varchar(1) not null,\n",
    "    faculty varchar not null\n",
    ");\n",
    "\n",
    "'''\n",
    "cur.execute(create_table_query)"
   ]
  },
  {
   "cell_type": "code",
   "execution_count": 10,
   "id": "bb2dd718",
   "metadata": {},
   "outputs": [
    {
     "data": {
      "text/plain": [
       "<sqlite3.Cursor at 0x1044312c0>"
      ]
     },
     "execution_count": 10,
     "metadata": {},
     "output_type": "execute_result"
    }
   ],
   "source": [
    "insert_records = '''\n",
    "\n",
    "Insert into student('id', 'name', 'address', 'college', 'age', 'gender', 'faculty') \n",
    "values \n",
    "(1, 'ram', 'kathmandu', 'ncit', 18, 'm', 'IT'),\n",
    "(2, 'shyam', 'lalitpur', 'islington', 20, 'm', 'CSIT'),\n",
    "(3, 'gita', 'pokhara', 'ncit', 21, 'f', 'SE'),\n",
    "(4, 'sita', 'kathmandu', 'ioe pulchowk', 24, 'f','CE');\n",
    "\n",
    "'''\n",
    "\n",
    "cur.execute(insert_records)"
   ]
  },
  {
   "cell_type": "code",
   "execution_count": null,
   "id": "7365d549",
   "metadata": {},
   "outputs": [],
   "source": [
    "# cur.execute() onlye saves the data in python memory. To embed the data into hard drive you need to commit it.\n",
    "con.commit() "
   ]
  }
 ],
 "metadata": {
  "kernelspec": {
   "display_name": ".venv",
   "language": "python",
   "name": "python3"
  },
  "language_info": {
   "codemirror_mode": {
    "name": "ipython",
    "version": 3
   },
   "file_extension": ".py",
   "mimetype": "text/x-python",
   "name": "python",
   "nbconvert_exporter": "python",
   "pygments_lexer": "ipython3",
   "version": "3.12.9"
  }
 },
 "nbformat": 4,
 "nbformat_minor": 5
}
