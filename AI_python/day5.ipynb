{
 "cells": [
  {
   "cell_type": "code",
   "execution_count": null,
   "id": "9a2a0dce",
   "metadata": {},
   "outputs": [
    {
     "name": "stdout",
     "output_type": "stream",
     "text": [
      "[1, 8, 27, 64, 125, 216]\n"
     ]
    }
   ],
   "source": [
    "ls = [1,2,3,4,5,6]\n",
    "# non pythonic code\n",
    "squares = []\n",
    "for i in ls:\n",
    "    squares.append(i ** 3)\n",
    "print(squares)"
   ]
  },
  {
   "cell_type": "code",
   "execution_count": null,
   "id": "ec715b40",
   "metadata": {},
   "outputs": [
    {
     "name": "stdout",
     "output_type": "stream",
     "text": [
      "[1, 4, 9, 16, 25, 36]\n"
     ]
    }
   ],
   "source": [
    "# List comprehension\n",
    "ls = [1,2,3,4,5,6]\n",
    "# pythonic code\n",
    "squared = [i**2 for i in ls] \n",
    "print(squared)"
   ]
  },
  {
   "cell_type": "code",
   "execution_count": null,
   "id": "a27c1c8e",
   "metadata": {},
   "outputs": [
    {
     "name": "stdout",
     "output_type": "stream",
     "text": [
      "unauthorized\n"
     ]
    }
   ],
   "source": [
    "# Normal if-else\n",
    "age = 17\n",
    "if age < 18:\n",
    "    print('unauthorized')\n",
    "else:\n",
    "    print('authorised')"
   ]
  },
  {
   "cell_type": "code",
   "execution_count": 9,
   "id": "039eedd7",
   "metadata": {},
   "outputs": [
    {
     "name": "stdout",
     "output_type": "stream",
     "text": [
      "unauthorized\n"
     ]
    }
   ],
   "source": [
    "age = 17\n",
    "# ternary operator\n",
    "is_authorised = 'unauthorized' if age < 18 else 'Authorised'\n",
    "print(is_authorised)"
   ]
  },
  {
   "cell_type": "code",
   "execution_count": null,
   "id": "1f05dd39",
   "metadata": {},
   "outputs": [
    {
     "name": "stdout",
     "output_type": "stream",
     "text": [
      "['odd', 'odd', 'even', 'odd', 'even', 'even', 'even']\n"
     ]
    }
   ],
   "source": [
    "# non pythonic way\n",
    "numbers = [1,23,4,3,4,2,2]\n",
    "output = []\n",
    "for i in numbers:\n",
    "    if i % 2 == 0:\n",
    "        output.append('even')\n",
    "    else:\n",
    "        output.append('odd')\n",
    "print(output)"
   ]
  },
  {
   "cell_type": "code",
   "execution_count": null,
   "id": "d6be3ecd",
   "metadata": {},
   "outputs": [
    {
     "name": "stdout",
     "output_type": "stream",
     "text": [
      "['odd', 'odd', 'even', 'odd', 'even', 'even', 'even']\n"
     ]
    }
   ],
   "source": [
    "# List comprehension => always try to use list comprehension when possible\n",
    "numbers = [1,23,4,3,4,2,2]\n",
    "# pythonic way \n",
    "is_odd = ['odd' if i % 2 !=0 else 'even' for i in numbers]\n",
    "print(is_odd)"
   ]
  },
  {
   "cell_type": "code",
   "execution_count": null,
   "id": "afec61d1",
   "metadata": {},
   "outputs": [
    {
     "name": "stdout",
     "output_type": "stream",
     "text": [
      "[1, 23, 4, 3, 4, 2, 2, 7]\n"
     ]
    }
   ],
   "source": [
    "numbers = [1,23,4,3,4,2,2,-8,-12,7,-0.5,-9]\n",
    "# use if in the end when you are not using else, otherwise will get an error\n",
    "print_positive = [i for i in numbers if i > 0] \n",
    "print(print_positive)"
   ]
  },
  {
   "cell_type": "code",
   "execution_count": 22,
   "id": "742814b6",
   "metadata": {},
   "outputs": [
    {
     "name": "stdout",
     "output_type": "stream",
     "text": [
      "{'milk': 268.6935, 'bread': 340.782, 'butter': 340.782}\n"
     ]
    }
   ],
   "source": [
    "us_price = {'milk': 2.05, 'bread': 2.6, 'butter': 2.6}\n",
    "nep_price = {}\n",
    "for product, price in us_price.items():\n",
    "    nep_price.update({product: price * 131.07})\n",
    "print(nep_price)"
   ]
  },
  {
   "cell_type": "code",
   "execution_count": null,
   "id": "99150cf9",
   "metadata": {},
   "outputs": [],
   "source": [
    "# Pythonic way\n",
    "us_price = {'milk': 2.05, 'bread': 2.6, 'butter': 2.6}\n",
    "x = 131.07\n",
    "nepal_price = {product: price * x for product, price in us_price.items()}\n",
    "print(nepal_price)"
   ]
  },
  {
   "cell_type": "code",
   "execution_count": 28,
   "id": "af914e60",
   "metadata": {},
   "outputs": [
    {
     "name": "stdout",
     "output_type": "stream",
     "text": [
      "{'milk': 2.05, 'bread': 2.6, 'butter': 2.6}\n"
     ]
    }
   ],
   "source": [
    "# Get all prices below 5 in US dollars\n",
    "# Normal way\n",
    "price_less_five = {}\n",
    "us_price = {'milk': 2.05, 'bread': 2.6, 'butter': 2.6, 'mobile': 50, 'tv': 1000}\n",
    "for product, price in us_price.items():\n",
    "    if price < 5:\n",
    "        price_less_five.update({product: price})\n",
    "\n",
    "print(price_less_five)\n",
    "        "
   ]
  },
  {
   "cell_type": "code",
   "execution_count": null,
   "id": "6d0c0583",
   "metadata": {},
   "outputs": [
    {
     "name": "stdout",
     "output_type": "stream",
     "text": [
      "{'milk': 2.05, 'bread': 2.6, 'butter': 2.6}\n"
     ]
    }
   ],
   "source": [
    "# Get all prices below 5 in US dollars\n",
    "# Pythonic way\n",
    "us_price = {'milk': 2.05, 'bread': 2.6, 'butter': 2.6, 'mobile': 50, 'tv': 1000}\n",
    "less_than_five = {product:price for product, price in us_price.items() if price < 5}\n",
    "print(less_than_five)"
   ]
  },
  {
   "cell_type": "code",
   "execution_count": null,
   "id": "6615cd20",
   "metadata": {},
   "outputs": [],
   "source": [
    "us_price = {'milk': 2.05, 'bread': 2.6, 'butter': 2.6, 'mobile': 50, 'tv': 1000}\n",
    "# non pythonic way\n",
    "new_price = {}\n",
    "for product, price in us_price.items():\n",
    "    if price < 5:\n",
    "        new_price.update()"
   ]
  },
  {
   "cell_type": "code",
   "execution_count": null,
   "id": "188fe91f",
   "metadata": {},
   "outputs": [
    {
     "name": "stdout",
     "output_type": "stream",
     "text": [
      "{'milk': 2.1525, 'bread': 2.73, 'butter': 2.73, 'mobile': 60.0, 'tv': 1200.0}\n"
     ]
    }
   ],
   "source": [
    "# Add 5% tax if price is less than 5 other wise 20%\n",
    "# Using list comprehension\n",
    "us_price = {'milk': 2.05, 'bread': 2.6, 'butter': 2.6, 'mobile': 50, 'tv': 1000}\n",
    "price_with_tax = {product:price + (5/100 * price) if price < 5 else price + (20/100 * price) for product, price in us_price.items() }\n",
    "print(price_with_tax)"
   ]
  }
 ],
 "metadata": {
  "kernelspec": {
   "display_name": ".venv",
   "language": "python",
   "name": "python3"
  },
  "language_info": {
   "codemirror_mode": {
    "name": "ipython",
    "version": 3
   },
   "file_extension": ".py",
   "mimetype": "text/x-python",
   "name": "python",
   "nbconvert_exporter": "python",
   "pygments_lexer": "ipython3",
   "version": "3.12.9"
  }
 },
 "nbformat": 4,
 "nbformat_minor": 5
}
