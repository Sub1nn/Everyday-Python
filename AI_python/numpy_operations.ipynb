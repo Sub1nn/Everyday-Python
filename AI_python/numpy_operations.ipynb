{
 "cells": [
  {
   "cell_type": "code",
   "execution_count": 2,
   "id": "9182c895",
   "metadata": {},
   "outputs": [
    {
     "name": "stdout",
     "output_type": "stream",
     "text": [
      "zsh:1: command not found: a\n",
      "Array A\n",
      " [[2 2 2]\n",
      " [2 2 2]\n",
      " [2 2 2]]\n",
      "int64\n"
     ]
    }
   ],
   "source": [
    "import numpy as np\n",
    "\n",
    "a  = np.zeros((3,3), dtype = np.int64)\n",
    "a[:] = 2 # select all rows and assign 3 to it\n",
    "## a.fill(8) # fills every element with the value specified (in place)\n",
    "## a += 3 # assignment operator adds 3 to all the elements in the 2D matrix\n",
    "! a /= 3 # gives error, as the result will be in float but our dtype is int\n",
    "print('Array A\\n',a) \n",
    "print(a.dtype)"
   ]
  },
  {
   "cell_type": "code",
   "execution_count": 3,
   "id": "410b2fdc",
   "metadata": {},
   "outputs": [
    {
     "name": "stdout",
     "output_type": "stream",
     "text": [
      "[[1 2 3]\n",
      " [4 5 6]\n",
      " [7 8 9]]\n",
      "int64\n"
     ]
    }
   ],
   "source": [
    "b = np.arange(1, 10).reshape((3,3))\n",
    "print(b)\n",
    "print(b.dtype)"
   ]
  },
  {
   "cell_type": "code",
   "execution_count": 4,
   "id": "04f66557",
   "metadata": {},
   "outputs": [
    {
     "name": "stdout",
     "output_type": "stream",
     "text": [
      "[ 6 15 24]\n"
     ]
    }
   ],
   "source": [
    "array_sum = a.sum()\n",
    "array_sum = a.sum(0) # axis of 0, sums each of our columns\n",
    "array_sum = b.sum(axis = 1) # axis of 1, sum each of our rows\n",
    "print(array_sum) "
   ]
  },
  {
   "cell_type": "code",
   "execution_count": 5,
   "id": "d68e761f",
   "metadata": {},
   "outputs": [
    {
     "name": "stdout",
     "output_type": "stream",
     "text": [
      "9 1\n",
      "5.0\n",
      "362880\n"
     ]
    }
   ],
   "source": [
    "array_product = b.prod() # multiplies all the elements\n",
    "array_average = b.mean()\n",
    "array_max, array_min = b.max(), b.min()\n",
    "print(array_max, array_min)\n",
    "print(array_average)\n",
    "print(array_product)"
   ]
  },
  {
   "cell_type": "code",
   "execution_count": 6,
   "id": "1bafc927",
   "metadata": {},
   "outputs": [
    {
     "name": "stdout",
     "output_type": "stream",
     "text": [
      "8 0\n"
     ]
    }
   ],
   "source": [
    "# gives the index where max and min values are located\n",
    "array_max_index, array_min_index = b.argmax(), b.argmin()\n",
    "print(array_max_index, array_min_index)"
   ]
  },
  {
   "cell_type": "code",
   "execution_count": 7,
   "id": "811f0381",
   "metadata": {},
   "outputs": [
    {
     "name": "stdout",
     "output_type": "stream",
     "text": [
      "8\n"
     ]
    }
   ],
   "source": [
    "# peak_to_peak = b.ptp()\n",
    "peak_to_peak = b.max() - b.min()\n",
    "print(peak_to_peak)"
   ]
  },
  {
   "cell_type": "code",
   "execution_count": 8,
   "id": "8b12fc7f",
   "metadata": {},
   "outputs": [
    {
     "name": "stdout",
     "output_type": "stream",
     "text": [
      "[1 2 3 4 5 6 7 8 9]\n"
     ]
    }
   ],
   "source": [
    "# flatten arrays\n",
    "array_flat = b.reshape(b.size)\n",
    "array_flat = b.flatten() # makes a copy\n",
    "array_flat = b.ravel() # similar result but makes a view, mutates the original array\n",
    "print(array_flat)"
   ]
  },
  {
   "cell_type": "code",
   "execution_count": 9,
   "id": "48da44b3",
   "metadata": {},
   "outputs": [
    {
     "name": "stdout",
     "output_type": "stream",
     "text": [
      "[[1 1 1 2 2 2 3 3 3]\n",
      " [4 4 4 5 5 5 6 6 6]\n",
      " [7 7 7 8 8 8 9 9 9]]\n",
      "[[1 2 3]\n",
      " [1 2 3]\n",
      " [1 2 3]\n",
      " [4 5 6]\n",
      " [4 5 6]\n",
      " [4 5 6]\n",
      " [7 8 9]\n",
      " [7 8 9]\n",
      " [7 8 9]]\n"
     ]
    }
   ],
   "source": [
    "# repeat values/arrays\n",
    "array_repeat = np.repeat(255, 3) # 1st arg = value, 2nd arg = no. of reps\n",
    "array_repeat = np.repeat(b, 3) # we get flattened vertion of b with all its values repeated 3 times\n",
    "array_repeat = np.repeat(b, 3, axis = 1) # repeat row items three times\n",
    "array_repeat_cols = np.repeat(b, 3, axis=0) # for columns\n",
    "array_unique = np.unique(array_repeat, axis = 0) # gives unique elements, cancels the repeated elements\n",
    "print(array_repeat)\n",
    "print(array_repeat_cols)"
   ]
  },
  {
   "cell_type": "code",
   "execution_count": 10,
   "id": "e6b55d43",
   "metadata": {},
   "outputs": [
    {
     "name": "stdout",
     "output_type": "stream",
     "text": [
      "[4 8]\n"
     ]
    }
   ],
   "source": [
    "array_diagonal = np.diagonal(b) # gives all the diagonal elements\n",
    "array_diagonal = np.diagonal(b, offset=-1) # gives one diagonal below the main one\n",
    "print(array_diagonal)"
   ]
  },
  {
   "cell_type": "code",
   "execution_count": 11,
   "id": "c7a8489d",
   "metadata": {},
   "outputs": [
    {
     "name": "stdout",
     "output_type": "stream",
     "text": [
      "b is <class 'numpy.ndarray'>\n",
      "mylist is <class 'list'>\n"
     ]
    }
   ],
   "source": [
    "# conversion and storage\n",
    "my_list = b.tolist()\n",
    "print('b is', type(b))\n",
    "print('mylist is', type(my_list))"
   ]
  },
  {
   "cell_type": "code",
   "execution_count": 12,
   "id": "f426cb34",
   "metadata": {},
   "outputs": [],
   "source": [
    "# convert np arry to file\n",
    "b.tofile('my_array.txt', sep=',') # sep => separater here is comma"
   ]
  },
  {
   "cell_type": "code",
   "execution_count": 15,
   "id": "56a1b0e8",
   "metadata": {},
   "outputs": [
    {
     "name": "stdout",
     "output_type": "stream",
     "text": [
      "[[1 4 7]\n",
      " [2 5 8]\n",
      " [3 6 9]]\n"
     ]
    }
   ],
   "source": [
    "# transposition\n",
    "array_swapped = np.swapaxes(b, 0, 1) # flip axix 0 with axis 1\n",
    "array_swapped = b.transpose(1, 0) # flip axis 1 with axis 0\n",
    "array_swapped = b.T # attribute method\n",
    "print(array_swapped)"
   ]
  }
 ],
 "metadata": {
  "kernelspec": {
   "display_name": "base",
   "language": "python",
   "name": "python3"
  },
  "language_info": {
   "codemirror_mode": {
    "name": "ipython",
    "version": 3
   },
   "file_extension": ".py",
   "mimetype": "text/x-python",
   "name": "python",
   "nbconvert_exporter": "python",
   "pygments_lexer": "ipython3",
   "version": "3.13.5"
  }
 },
 "nbformat": 4,
 "nbformat_minor": 5
}
