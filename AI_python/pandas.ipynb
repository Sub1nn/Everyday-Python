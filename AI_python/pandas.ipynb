{
 "cells": [
  {
   "cell_type": "code",
   "execution_count": null,
   "id": "63a11b89",
   "metadata": {},
   "outputs": [],
   "source": []
  },
  {
   "cell_type": "code",
   "execution_count": 2,
   "id": "09000043",
   "metadata": {},
   "outputs": [
    {
     "data": {
      "text/plain": [
       "'2.2.3'"
      ]
     },
     "execution_count": 2,
     "metadata": {},
     "output_type": "execute_result"
    }
   ],
   "source": [
    "import pandas as pd\n",
    "import numpy as np\n",
    "pd.__version__"
   ]
  },
  {
   "cell_type": "code",
   "execution_count": 3,
   "id": "4d1f9190",
   "metadata": {},
   "outputs": [
    {
     "name": "stdout",
     "output_type": "stream",
     "text": [
      "0    10\n",
      "1    20\n",
      "2    30\n",
      "3    40\n",
      "4    50\n",
      "dtype: int64\n"
     ]
    }
   ],
   "source": [
    "data = [10, 20, 30, 40, 50]\n",
    "s = pd.Series(data)\n",
    "print(s)"
   ]
  },
  {
   "cell_type": "code",
   "execution_count": 4,
   "id": "477ab353",
   "metadata": {},
   "outputs": [
    {
     "data": {
      "text/plain": [
       "array([10, 20, 30, 40, 50])"
      ]
     },
     "execution_count": 4,
     "metadata": {},
     "output_type": "execute_result"
    }
   ],
   "source": [
    "s.values"
   ]
  },
  {
   "cell_type": "code",
   "execution_count": 5,
   "id": "40ed6f36",
   "metadata": {},
   "outputs": [
    {
     "data": {
      "text/plain": [
       "RangeIndex(start=0, stop=5, step=1)"
      ]
     },
     "execution_count": 5,
     "metadata": {},
     "output_type": "execute_result"
    }
   ],
   "source": [
    "s.index"
   ]
  },
  {
   "cell_type": "code",
   "execution_count": 6,
   "id": "42dba408",
   "metadata": {},
   "outputs": [
    {
     "name": "stdout",
     "output_type": "stream",
     "text": [
      "a       1\n",
      "b    John\n",
      "c     3.5\n",
      "d     Hey\n",
      "dtype: object\n"
     ]
    }
   ],
   "source": [
    "# Using Labels\n",
    "\n",
    "labelled_data=pd.Series([1, 'John', 3.5,'Hey'], index = ['a','b','c','d'])\n",
    "print(labelled_data)"
   ]
  },
  {
   "cell_type": "code",
   "execution_count": 7,
   "id": "d73f9cc6",
   "metadata": {},
   "outputs": [
    {
     "name": "stderr",
     "output_type": "stream",
     "text": [
      "/var/folders/y5/5lrz8v6s505c09js64f3pkb00000gn/T/ipykernel_91171/3855525365.py:1: FutureWarning: Series.__getitem__ treating keys as positions is deprecated. In a future version, integer keys will always be treated as labels (consistent with DataFrame behavior). To access a value by position, use `ser.iloc[pos]`\n",
      "  labelled_data[0]\n"
     ]
    },
    {
     "data": {
      "text/plain": [
       "1"
      ]
     },
     "execution_count": 7,
     "metadata": {},
     "output_type": "execute_result"
    }
   ],
   "source": [
    "labelled_data[0]"
   ]
  },
  {
   "cell_type": "code",
   "execution_count": 8,
   "id": "a5942922",
   "metadata": {},
   "outputs": [
    {
     "data": {
      "text/plain": [
       "Index(['a', 'b', 'c', 'd'], dtype='object')"
      ]
     },
     "execution_count": 8,
     "metadata": {},
     "output_type": "execute_result"
    }
   ],
   "source": [
    "labelled_data.index"
   ]
  },
  {
   "cell_type": "code",
   "execution_count": 9,
   "id": "837dadb1",
   "metadata": {},
   "outputs": [
    {
     "data": {
      "text/plain": [
       "Jane    90.0\n",
       "Bill    80.0\n",
       "Elon    85.0\n",
       "Tom     75.0\n",
       "Tim     95.0\n",
       "Gp       NaN\n",
       "dtype: float64"
      ]
     },
     "execution_count": 9,
     "metadata": {},
     "output_type": "execute_result"
    }
   ],
   "source": [
    "score={'Jane':90,'Bill':80,'Elon': 85,'Tom':75,'Tim':95, 'Gp': None}\n",
    "names=pd.Series(score) #Convert to series\n",
    "names"
   ]
  },
  {
   "cell_type": "code",
   "execution_count": 10,
   "id": "8b609dc3",
   "metadata": {},
   "outputs": [
    {
     "data": {
      "text/plain": [
       "np.float64(95.0)"
      ]
     },
     "execution_count": 10,
     "metadata": {},
     "output_type": "execute_result"
    }
   ],
   "source": [
    "names['Tim']"
   ]
  },
  {
   "cell_type": "markdown",
   "id": "7d77616a",
   "metadata": {},
   "source": [
    "### Boolean Indexing\n",
    "filter elements using conditional logic:"
   ]
  },
  {
   "cell_type": "code",
   "execution_count": 11,
   "id": "888d2b8d",
   "metadata": {},
   "outputs": [
    {
     "data": {
      "text/plain": [
       "Jane    90.0\n",
       "Elon    85.0\n",
       "Tim     95.0\n",
       "dtype: float64"
      ]
     },
     "execution_count": 11,
     "metadata": {},
     "output_type": "execute_result"
    }
   ],
   "source": [
    "names[names>=85]"
   ]
  },
  {
   "cell_type": "code",
   "execution_count": 12,
   "id": "b4d39654",
   "metadata": {},
   "outputs": [],
   "source": [
    "names['Tom'] = 60\n"
   ]
  },
  {
   "cell_type": "code",
   "execution_count": 13,
   "id": "36d10adf",
   "metadata": {},
   "outputs": [
    {
     "data": {
      "text/plain": [
       "Jane    90.0\n",
       "Bill    83.0\n",
       "Elon    85.0\n",
       "Tom     83.0\n",
       "Tim     95.0\n",
       "Gp       NaN\n",
       "dtype: float64"
      ]
     },
     "execution_count": 13,
     "metadata": {},
     "output_type": "execute_result"
    }
   ],
   "source": [
    "names[names <= 80] = 83\n",
    "names"
   ]
  },
  {
   "cell_type": "code",
   "execution_count": 14,
   "id": "ccbfa49a",
   "metadata": {},
   "outputs": [
    {
     "data": {
      "text/plain": [
       "True"
      ]
     },
     "execution_count": 14,
     "metadata": {},
     "output_type": "execute_result"
    }
   ],
   "source": [
    "'Tom' in names"
   ]
  },
  {
   "cell_type": "code",
   "execution_count": 15,
   "id": "16a3ba6a",
   "metadata": {},
   "outputs": [],
   "source": [
    "names['gagan'] = 20"
   ]
  },
  {
   "cell_type": "code",
   "execution_count": 16,
   "id": "39dd19dd",
   "metadata": {},
   "outputs": [
    {
     "name": "stdout",
     "output_type": "stream",
     "text": [
      "hello\n"
     ]
    }
   ],
   "source": [
    "if 'gagan' in names:\n",
    "    print('hello')\n",
    "else:\n",
    "    print('Not there')"
   ]
  },
  {
   "cell_type": "code",
   "execution_count": 17,
   "id": "5f4850eb",
   "metadata": {},
   "outputs": [
    {
     "name": "stdout",
     "output_type": "stream",
     "text": [
      "3.0\n",
      "3.0\n"
     ]
    }
   ],
   "source": [
    "data = pd.Series([1,2,np.nan,4,5])\n",
    "print(data.mean())\n",
    "print(data.mean(skipna=True))"
   ]
  },
  {
   "cell_type": "code",
   "execution_count": 18,
   "id": "a4e145c6",
   "metadata": {},
   "outputs": [
    {
     "data": {
      "text/plain": [
       "Jane     False\n",
       "Bill     False\n",
       "Elon     False\n",
       "Tom      False\n",
       "Tim      False\n",
       "Gp        True\n",
       "gagan    False\n",
       "dtype: bool"
      ]
     },
     "execution_count": 18,
     "metadata": {},
     "output_type": "execute_result"
    }
   ],
   "source": [
    "names.isnull() # Returns a boolean Series"
   ]
  },
  {
   "cell_type": "code",
   "execution_count": 19,
   "id": "254fcc8a",
   "metadata": {},
   "outputs": [
    {
     "data": {
      "text/plain": [
       "Jane     90.0\n",
       "Bill     83.0\n",
       "Elon     85.0\n",
       "Tom      83.0\n",
       "Tim      95.0\n",
       "Gp        NaN\n",
       "gagan    20.0\n",
       "dtype: float64"
      ]
     },
     "execution_count": 19,
     "metadata": {},
     "output_type": "execute_result"
    }
   ],
   "source": [
    "names"
   ]
  },
  {
   "cell_type": "code",
   "execution_count": 20,
   "id": "aa17e912",
   "metadata": {},
   "outputs": [
    {
     "data": {
      "text/plain": [
       "Jane     False\n",
       "Bill     False\n",
       "Elon     False\n",
       "Tom      False\n",
       "Tim      False\n",
       "Gp        True\n",
       "gagan    False\n",
       "dtype: bool"
      ]
     },
     "execution_count": 20,
     "metadata": {},
     "output_type": "execute_result"
    }
   ],
   "source": [
    "names.isna()"
   ]
  },
  {
   "cell_type": "code",
   "execution_count": 21,
   "id": "9d48567b",
   "metadata": {},
   "outputs": [
    {
     "data": {
      "text/plain": [
       "Jane     90.0\n",
       "Bill     83.0\n",
       "Elon     85.0\n",
       "Tom      83.0\n",
       "Tim      95.0\n",
       "gagan    20.0\n",
       "dtype: float64"
      ]
     },
     "execution_count": 21,
     "metadata": {},
     "output_type": "execute_result"
    }
   ],
   "source": [
    "names.dropna()"
   ]
  },
  {
   "cell_type": "code",
   "execution_count": 22,
   "id": "67411ca2",
   "metadata": {},
   "outputs": [],
   "source": [
    "names.dropna(inplace=True)"
   ]
  },
  {
   "cell_type": "code",
   "execution_count": 23,
   "id": "1ca2798d",
   "metadata": {},
   "outputs": [
    {
     "data": {
      "text/plain": [
       "Jane     90.0\n",
       "Bill     83.0\n",
       "Elon     85.0\n",
       "Tom      83.0\n",
       "Tim      95.0\n",
       "gagan    20.0\n",
       "dtype: float64"
      ]
     },
     "execution_count": 23,
     "metadata": {},
     "output_type": "execute_result"
    }
   ],
   "source": [
    "names"
   ]
  },
  {
   "cell_type": "code",
   "execution_count": 24,
   "id": "e606f8a6",
   "metadata": {},
   "outputs": [],
   "source": [
    "names['gagan']=np.nan"
   ]
  },
  {
   "cell_type": "code",
   "execution_count": 25,
   "id": "4ba6b1c5",
   "metadata": {},
   "outputs": [
    {
     "data": {
      "text/plain": [
       "Jane     90.0\n",
       "Bill     83.0\n",
       "Elon     85.0\n",
       "Tom      83.0\n",
       "Tim      95.0\n",
       "gagan     NaN\n",
       "dtype: float64"
      ]
     },
     "execution_count": 25,
     "metadata": {},
     "output_type": "execute_result"
    }
   ],
   "source": [
    "names"
   ]
  },
  {
   "cell_type": "code",
   "execution_count": 26,
   "id": "0349fd3f",
   "metadata": {},
   "outputs": [
    {
     "data": {
      "text/plain": [
       "Jane     90.0\n",
       "Bill     83.0\n",
       "Elon     85.0\n",
       "Tom      83.0\n",
       "Tim      95.0\n",
       "gagan     0.0\n",
       "dtype: float64"
      ]
     },
     "execution_count": 26,
     "metadata": {},
     "output_type": "execute_result"
    }
   ],
   "source": [
    "names.fillna(0)"
   ]
  },
  {
   "cell_type": "code",
   "execution_count": 27,
   "id": "3f542978",
   "metadata": {},
   "outputs": [
    {
     "data": {
      "text/html": [
       "<div>\n",
       "<style scoped>\n",
       "    .dataframe tbody tr th:only-of-type {\n",
       "        vertical-align: middle;\n",
       "    }\n",
       "\n",
       "    .dataframe tbody tr th {\n",
       "        vertical-align: top;\n",
       "    }\n",
       "\n",
       "    .dataframe thead th {\n",
       "        text-align: right;\n",
       "    }\n",
       "</style>\n",
       "<table border=\"1\" class=\"dataframe\">\n",
       "  <thead>\n",
       "    <tr style=\"text-align: right;\">\n",
       "      <th></th>\n",
       "      <th>name</th>\n",
       "      <th>score</th>\n",
       "      <th>sport</th>\n",
       "      <th>sex</th>\n",
       "    </tr>\n",
       "  </thead>\n",
       "  <tbody>\n",
       "    <tr>\n",
       "      <th>0</th>\n",
       "      <td>Bill</td>\n",
       "      <td>90</td>\n",
       "      <td>Wrestling</td>\n",
       "      <td>M</td>\n",
       "    </tr>\n",
       "    <tr>\n",
       "      <th>1</th>\n",
       "      <td>Tom</td>\n",
       "      <td>80</td>\n",
       "      <td>Football</td>\n",
       "      <td>M</td>\n",
       "    </tr>\n",
       "    <tr>\n",
       "      <th>2</th>\n",
       "      <td>Tim</td>\n",
       "      <td>85</td>\n",
       "      <td>Skiing</td>\n",
       "      <td>M</td>\n",
       "    </tr>\n",
       "    <tr>\n",
       "      <th>3</th>\n",
       "      <td>John</td>\n",
       "      <td>75</td>\n",
       "      <td>Swimming</td>\n",
       "      <td>M</td>\n",
       "    </tr>\n",
       "    <tr>\n",
       "      <th>4</th>\n",
       "      <td>Alex</td>\n",
       "      <td>95</td>\n",
       "      <td>Tennis</td>\n",
       "      <td>F</td>\n",
       "    </tr>\n",
       "    <tr>\n",
       "      <th>5</th>\n",
       "      <td>Vanessa</td>\n",
       "      <td>60</td>\n",
       "      <td>Karete</td>\n",
       "      <td>F</td>\n",
       "    </tr>\n",
       "    <tr>\n",
       "      <th>6</th>\n",
       "      <td>Kate</td>\n",
       "      <td>65</td>\n",
       "      <td>Surfing</td>\n",
       "      <td>F</td>\n",
       "    </tr>\n",
       "  </tbody>\n",
       "</table>\n",
       "</div>"
      ],
      "text/plain": [
       "      name  score      sport sex\n",
       "0     Bill     90  Wrestling   M\n",
       "1      Tom     80   Football   M\n",
       "2      Tim     85     Skiing   M\n",
       "3     John     75   Swimming   M\n",
       "4     Alex     95     Tennis   F\n",
       "5  Vanessa     60     Karete   F\n",
       "6     Kate     65    Surfing   F"
      ]
     },
     "execution_count": 27,
     "metadata": {},
     "output_type": "execute_result"
    }
   ],
   "source": [
    "import pandas as pd\n",
    "\n",
    "data = {\n",
    "    \"name\": [\"Bill\", \"Tom\", \"Tim\", \"John\", \"Alex\", \"Vanessa\", \"Kate\"],\n",
    "    \"score\": (90, 80, 85, 75, 95, 60, 65),\n",
    "    \"sport\": [\"Wrestling\", \"Football\", \"Skiing\", \"Swimming\", \"Tennis\", \"Karete\", \"Surfing\"],\n",
    "    \"sex\": [\"M\", \"M\", \"M\", \"M\", \"F\", \"F\", \"F\"]\n",
    "}\n",
    "\n",
    "df = pd.DataFrame(data)\n",
    "df\n"
   ]
  },
  {
   "cell_type": "code",
   "execution_count": 28,
   "id": "a4dad8ce",
   "metadata": {},
   "outputs": [
    {
     "name": "stdout",
     "output_type": "stream",
     "text": [
      "name        Tim\n",
      "score        85\n",
      "sport    Skiing\n",
      "sex           M\n",
      "Name: 2, dtype: object\n"
     ]
    }
   ],
   "source": [
    "# Accessing a specific row  by index\n",
    "print(df.iloc[2]) # Third row (index 2)"
   ]
  },
  {
   "cell_type": "code",
   "execution_count": 29,
   "id": "5cf382ab",
   "metadata": {},
   "outputs": [
    {
     "name": "stdout",
     "output_type": "stream",
     "text": [
      "   name  score\n",
      "1   Tom     80\n",
      "2   Tim     85\n",
      "3  John     75\n"
     ]
    }
   ],
   "source": [
    "# Accessing a range of rows using slicing\n",
    "print(df.iloc[1:4, 0:2]) # Rows with indices 1,2,3"
   ]
  },
  {
   "cell_type": "markdown",
   "id": "e1274317",
   "metadata": {},
   "source": [
    "#### Indexing with .loc[] and .iloc[]\n",
    ".loc[] : Label-based Indesing.\n",
    "\n",
    ".iloc : Position-based indexing."
   ]
  },
  {
   "cell_type": "code",
   "execution_count": 30,
   "id": "f4311fc0",
   "metadata": {},
   "outputs": [],
   "source": [
    "df.set_index('name', inplace=True)"
   ]
  },
  {
   "cell_type": "code",
   "execution_count": 31,
   "id": "9312ca81",
   "metadata": {},
   "outputs": [
    {
     "data": {
      "text/html": [
       "<div>\n",
       "<style scoped>\n",
       "    .dataframe tbody tr th:only-of-type {\n",
       "        vertical-align: middle;\n",
       "    }\n",
       "\n",
       "    .dataframe tbody tr th {\n",
       "        vertical-align: top;\n",
       "    }\n",
       "\n",
       "    .dataframe thead th {\n",
       "        text-align: right;\n",
       "    }\n",
       "</style>\n",
       "<table border=\"1\" class=\"dataframe\">\n",
       "  <thead>\n",
       "    <tr style=\"text-align: right;\">\n",
       "      <th></th>\n",
       "      <th>score</th>\n",
       "      <th>sport</th>\n",
       "      <th>sex</th>\n",
       "    </tr>\n",
       "    <tr>\n",
       "      <th>name</th>\n",
       "      <th></th>\n",
       "      <th></th>\n",
       "      <th></th>\n",
       "    </tr>\n",
       "  </thead>\n",
       "  <tbody>\n",
       "    <tr>\n",
       "      <th>Bill</th>\n",
       "      <td>90</td>\n",
       "      <td>Wrestling</td>\n",
       "      <td>M</td>\n",
       "    </tr>\n",
       "    <tr>\n",
       "      <th>Tom</th>\n",
       "      <td>80</td>\n",
       "      <td>Football</td>\n",
       "      <td>M</td>\n",
       "    </tr>\n",
       "    <tr>\n",
       "      <th>Tim</th>\n",
       "      <td>85</td>\n",
       "      <td>Skiing</td>\n",
       "      <td>M</td>\n",
       "    </tr>\n",
       "    <tr>\n",
       "      <th>John</th>\n",
       "      <td>75</td>\n",
       "      <td>Swimming</td>\n",
       "      <td>M</td>\n",
       "    </tr>\n",
       "    <tr>\n",
       "      <th>Alex</th>\n",
       "      <td>95</td>\n",
       "      <td>Tennis</td>\n",
       "      <td>F</td>\n",
       "    </tr>\n",
       "    <tr>\n",
       "      <th>Vanessa</th>\n",
       "      <td>60</td>\n",
       "      <td>Karete</td>\n",
       "      <td>F</td>\n",
       "    </tr>\n",
       "    <tr>\n",
       "      <th>Kate</th>\n",
       "      <td>65</td>\n",
       "      <td>Surfing</td>\n",
       "      <td>F</td>\n",
       "    </tr>\n",
       "  </tbody>\n",
       "</table>\n",
       "</div>"
      ],
      "text/plain": [
       "         score      sport sex\n",
       "name                         \n",
       "Bill        90  Wrestling   M\n",
       "Tom         80   Football   M\n",
       "Tim         85     Skiing   M\n",
       "John        75   Swimming   M\n",
       "Alex        95     Tennis   F\n",
       "Vanessa     60     Karete   F\n",
       "Kate        65    Surfing   F"
      ]
     },
     "execution_count": 31,
     "metadata": {},
     "output_type": "execute_result"
    }
   ],
   "source": [
    "df"
   ]
  },
  {
   "cell_type": "code",
   "execution_count": 32,
   "id": "3890c257",
   "metadata": {},
   "outputs": [],
   "source": [
    "#df.reset_index(inplace=True)\n",
    "#df"
   ]
  },
  {
   "cell_type": "code",
   "execution_count": 33,
   "id": "2b14f282",
   "metadata": {},
   "outputs": [
    {
     "name": "stdout",
     "output_type": "stream",
     "text": [
      "score           90\n",
      "sport    Wrestling\n",
      "sex              M\n",
      "Name: Bill, dtype: object\n"
     ]
    }
   ],
   "source": [
    "# Accessing row by label (name)\n",
    "print(df.loc['Bill']) # Row with index 1"
   ]
  },
  {
   "cell_type": "code",
   "execution_count": 34,
   "id": "98e8f7ea",
   "metadata": {},
   "outputs": [
    {
     "name": "stdout",
     "output_type": "stream",
     "text": [
      "90\n"
     ]
    }
   ],
   "source": [
    "# Accessing specific value using labels\n",
    "print(df.loc['Bill', 'score']) # score of the person at index 1"
   ]
  },
  {
   "cell_type": "code",
   "execution_count": 35,
   "id": "c585d8df",
   "metadata": {},
   "outputs": [
    {
     "name": "stdout",
     "output_type": "stream",
     "text": [
      "score          80\n",
      "sport    Football\n",
      "sex             M\n",
      "Name: Tom, dtype: object\n"
     ]
    }
   ],
   "source": [
    "# Accessing row by integer position\n",
    "print(df.iloc[1]) # Second row (index 1)"
   ]
  },
  {
   "cell_type": "code",
   "execution_count": 36,
   "id": "ae6376e4",
   "metadata": {},
   "outputs": [
    {
     "name": "stdout",
     "output_type": "stream",
     "text": [
      "M\n"
     ]
    }
   ],
   "source": [
    "# Accessing specific value using integer positions\n",
    "print(df.iloc[1, 2]) # Element at row 1, column 1"
   ]
  },
  {
   "cell_type": "code",
   "execution_count": 37,
   "id": "fdc72abe",
   "metadata": {},
   "outputs": [
    {
     "name": "stdout",
     "output_type": "stream",
     "text": [
      "score    80\n",
      "sex       M\n",
      "Name: Tom, dtype: object\n"
     ]
    }
   ],
   "source": [
    "print(df.iloc[1, [0,2]]) # Element at row 1. column 0 and 2"
   ]
  },
  {
   "cell_type": "markdown",
   "id": "5d511c3b",
   "metadata": {},
   "source": [
    "### Slicing\n",
    "-- with .loc[]: Both start and stop indices are included\n",
    "\n",
    "-- with .iloc[]: The stop is excluded"
   ]
  },
  {
   "cell_type": "code",
   "execution_count": 38,
   "id": "d99feab9",
   "metadata": {},
   "outputs": [],
   "source": [
    "# loc or iloc [row slicing, column slicing]"
   ]
  },
  {
   "cell_type": "code",
   "execution_count": 39,
   "id": "f9bc4d4c",
   "metadata": {},
   "outputs": [
    {
     "data": {
      "text/html": [
       "<div>\n",
       "<style scoped>\n",
       "    .dataframe tbody tr th:only-of-type {\n",
       "        vertical-align: middle;\n",
       "    }\n",
       "\n",
       "    .dataframe tbody tr th {\n",
       "        vertical-align: top;\n",
       "    }\n",
       "\n",
       "    .dataframe thead th {\n",
       "        text-align: right;\n",
       "    }\n",
       "</style>\n",
       "<table border=\"1\" class=\"dataframe\">\n",
       "  <thead>\n",
       "    <tr style=\"text-align: right;\">\n",
       "      <th></th>\n",
       "      <th>score</th>\n",
       "      <th>sport</th>\n",
       "      <th>sex</th>\n",
       "    </tr>\n",
       "    <tr>\n",
       "      <th>name</th>\n",
       "      <th></th>\n",
       "      <th></th>\n",
       "      <th></th>\n",
       "    </tr>\n",
       "  </thead>\n",
       "  <tbody>\n",
       "    <tr>\n",
       "      <th>Bill</th>\n",
       "      <td>90</td>\n",
       "      <td>Wrestling</td>\n",
       "      <td>M</td>\n",
       "    </tr>\n",
       "    <tr>\n",
       "      <th>Tom</th>\n",
       "      <td>80</td>\n",
       "      <td>Football</td>\n",
       "      <td>M</td>\n",
       "    </tr>\n",
       "    <tr>\n",
       "      <th>Tim</th>\n",
       "      <td>85</td>\n",
       "      <td>Skiing</td>\n",
       "      <td>M</td>\n",
       "    </tr>\n",
       "    <tr>\n",
       "      <th>John</th>\n",
       "      <td>75</td>\n",
       "      <td>Swimming</td>\n",
       "      <td>M</td>\n",
       "    </tr>\n",
       "    <tr>\n",
       "      <th>Alex</th>\n",
       "      <td>95</td>\n",
       "      <td>Tennis</td>\n",
       "      <td>F</td>\n",
       "    </tr>\n",
       "    <tr>\n",
       "      <th>Vanessa</th>\n",
       "      <td>60</td>\n",
       "      <td>Karete</td>\n",
       "      <td>F</td>\n",
       "    </tr>\n",
       "    <tr>\n",
       "      <th>Kate</th>\n",
       "      <td>65</td>\n",
       "      <td>Surfing</td>\n",
       "      <td>F</td>\n",
       "    </tr>\n",
       "  </tbody>\n",
       "</table>\n",
       "</div>"
      ],
      "text/plain": [
       "         score      sport sex\n",
       "name                         \n",
       "Bill        90  Wrestling   M\n",
       "Tom         80   Football   M\n",
       "Tim         85     Skiing   M\n",
       "John        75   Swimming   M\n",
       "Alex        95     Tennis   F\n",
       "Vanessa     60     Karete   F\n",
       "Kate        65    Surfing   F"
      ]
     },
     "execution_count": 39,
     "metadata": {},
     "output_type": "execute_result"
    }
   ],
   "source": [
    "df\n"
   ]
  },
  {
   "cell_type": "code",
   "execution_count": 40,
   "id": "b11f89a0",
   "metadata": {},
   "outputs": [
    {
     "name": "stdout",
     "output_type": "stream",
     "text": [
      "      score      sport sex\n",
      "name                      \n",
      "Bill     90  Wrestling   M\n",
      "Tom      80   Football   M\n",
      "Tim      85     Skiing   M\n"
     ]
    }
   ],
   "source": [
    "# using .loc for slicing (inclusive of end)\n",
    "print(df.loc['Bill': 'Tim', 'score':'sex'])"
   ]
  },
  {
   "cell_type": "code",
   "execution_count": 41,
   "id": "cd0b2e01",
   "metadata": {},
   "outputs": [
    {
     "name": "stdout",
     "output_type": "stream",
     "text": [
      "      score     sport\n",
      "name                 \n",
      "Tom      80  Football\n",
      "Tim      85    Skiing\n"
     ]
    }
   ],
   "source": [
    "# using .iloc for slicing (exclusive of end)\n",
    "print(df.iloc[1:3, 0:2])"
   ]
  },
  {
   "cell_type": "markdown",
   "id": "3a7f8355",
   "metadata": {},
   "source": [
    "#### Filtering Data (Boolean Indexing)"
   ]
  },
  {
   "cell_type": "code",
   "execution_count": 42,
   "id": "6b7339fd",
   "metadata": {},
   "outputs": [
    {
     "data": {
      "text/html": [
       "<div>\n",
       "<style scoped>\n",
       "    .dataframe tbody tr th:only-of-type {\n",
       "        vertical-align: middle;\n",
       "    }\n",
       "\n",
       "    .dataframe tbody tr th {\n",
       "        vertical-align: top;\n",
       "    }\n",
       "\n",
       "    .dataframe thead th {\n",
       "        text-align: right;\n",
       "    }\n",
       "</style>\n",
       "<table border=\"1\" class=\"dataframe\">\n",
       "  <thead>\n",
       "    <tr style=\"text-align: right;\">\n",
       "      <th></th>\n",
       "      <th>score</th>\n",
       "      <th>sport</th>\n",
       "      <th>sex</th>\n",
       "    </tr>\n",
       "    <tr>\n",
       "      <th>name</th>\n",
       "      <th></th>\n",
       "      <th></th>\n",
       "      <th></th>\n",
       "    </tr>\n",
       "  </thead>\n",
       "  <tbody>\n",
       "    <tr>\n",
       "      <th>Bill</th>\n",
       "      <td>90</td>\n",
       "      <td>Wrestling</td>\n",
       "      <td>M</td>\n",
       "    </tr>\n",
       "    <tr>\n",
       "      <th>Tom</th>\n",
       "      <td>80</td>\n",
       "      <td>Football</td>\n",
       "      <td>M</td>\n",
       "    </tr>\n",
       "    <tr>\n",
       "      <th>Tim</th>\n",
       "      <td>85</td>\n",
       "      <td>Skiing</td>\n",
       "      <td>M</td>\n",
       "    </tr>\n",
       "    <tr>\n",
       "      <th>John</th>\n",
       "      <td>75</td>\n",
       "      <td>Swimming</td>\n",
       "      <td>M</td>\n",
       "    </tr>\n",
       "  </tbody>\n",
       "</table>\n",
       "</div>"
      ],
      "text/plain": [
       "      score      sport sex\n",
       "name                      \n",
       "Bill     90  Wrestling   M\n",
       "Tom      80   Football   M\n",
       "Tim      85     Skiing   M\n",
       "John     75   Swimming   M"
      ]
     },
     "execution_count": 42,
     "metadata": {},
     "output_type": "execute_result"
    }
   ],
   "source": [
    "# Filtering based on a condition (e.g., score > 80)\n",
    "df[df['sex'] == 'M']"
   ]
  },
  {
   "cell_type": "code",
   "execution_count": 43,
   "id": "35471bcf",
   "metadata": {},
   "outputs": [
    {
     "name": "stdout",
     "output_type": "stream",
     "text": [
      "      score      sport sex\n",
      "name                      \n",
      "Bill     90  Wrestling   M\n",
      "Tim      85     Skiing   M\n"
     ]
    }
   ],
   "source": [
    "# Filtering based on multiple conditions\n",
    "print(df[(df['score'] > 80) & (df['sex'] == 'M')])"
   ]
  },
  {
   "cell_type": "markdown",
   "id": "4c0ec044",
   "metadata": {},
   "source": [
    "#### Sorting Data"
   ]
  },
  {
   "cell_type": "code",
   "execution_count": 44,
   "id": "e39c8ed6",
   "metadata": {},
   "outputs": [
    {
     "name": "stdout",
     "output_type": "stream",
     "text": [
      "         score      sport sex\n",
      "name                         \n",
      "Alex        95     Tennis   F\n",
      "Bill        90  Wrestling   M\n",
      "Tim         85     Skiing   M\n",
      "Tom         80   Football   M\n",
      "John        75   Swimming   M\n",
      "Kate        65    Surfing   F\n",
      "Vanessa     60     Karete   F\n"
     ]
    }
   ],
   "source": [
    "# Sorting by score\n",
    "print(df.sort_values('score', ascending=False))"
   ]
  },
  {
   "cell_type": "code",
   "execution_count": null,
   "id": "abfd550d",
   "metadata": {},
   "outputs": [
    {
     "name": "stdout",
     "output_type": "stream",
     "text": [
      "         score      sport sex\n",
      "name                         \n",
      "Alex        95     Tennis   F\n",
      "Kate        65    Surfing   F\n",
      "Vanessa     60     Karete   F\n",
      "Bill        90  Wrestling   M\n",
      "Tim         85     Skiing   M\n",
      "Tom         80   Football   M\n",
      "John        75   Swimming   M\n"
     ]
    }
   ],
   "source": [
    "# Sorting by multiple columns (first by sex, then by score)\n",
    "# The data is grouped by sex and each group is sorted by score\n",
    "print(df.sort_values(by=['sex', 'score'], ascending=[True, False]))"
   ]
  }
 ],
 "metadata": {
  "kernelspec": {
   "display_name": ".venv",
   "language": "python",
   "name": "python3"
  },
  "language_info": {
   "codemirror_mode": {
    "name": "ipython",
    "version": 3
   },
   "file_extension": ".py",
   "mimetype": "text/x-python",
   "name": "python",
   "nbconvert_exporter": "python",
   "pygments_lexer": "ipython3",
   "version": "3.12.9"
  }
 },
 "nbformat": 4,
 "nbformat_minor": 5
}
