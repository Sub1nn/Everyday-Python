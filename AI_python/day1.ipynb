{
 "cells": [
  {
   "cell_type": "code",
   "execution_count": 1,
   "id": "443e9c85-fbf9-4328-9f16-6015a17e1ca7",
   "metadata": {},
   "outputs": [
    {
     "name": "stdout",
     "output_type": "stream",
     "text": [
      "3\n"
     ]
    }
   ],
   "source": [
    "a = 1\n",
    "b = 2\n",
    "print (a + b)"
   ]
  },
  {
   "cell_type": "code",
   "execution_count": null,
   "id": "9aaa8395-bcea-4577-8a60-6e8b630112fe",
   "metadata": {},
   "outputs": [
    {
     "name": "stdout",
     "output_type": "stream",
     "text": [
      "I am a man.\n",
      "I like it.\n"
     ]
    }
   ],
   "source": [
    "print ('''I am a man.\n",
    "I like it.''') \n"
   ]
  },
  {
   "cell_type": "code",
   "execution_count": null,
   "id": "1fcf9e9a",
   "metadata": {},
   "outputs": [],
   "source": [
    "'''\n",
    "Here are some basic rules for Python variables:\n",
    "• A variable name must start with a letter or the underscore character\n",
    "• A variable name cannot start with a number\n",
    "• A variable name can only contain alpha-numeric characters (A-z, 0-9) and\n",
    "underscores\n",
    "• Variable names are case-sensitive, e.g., amount, Amount and AMOUNT are three different variables\n",
    "'''"
   ]
  },
  {
   "cell_type": "code",
   "execution_count": null,
   "id": "8dcd1549-4957-4884-81aa-c42879cb04d5",
   "metadata": {},
   "outputs": [],
   "source": [
    "# tuple datatype / data structure"
   ]
  },
  {
   "cell_type": "code",
   "execution_count": 6,
   "id": "78ffb9ad-6f05-463f-b2a3-af5aa85d6842",
   "metadata": {},
   "outputs": [
    {
     "name": "stdout",
     "output_type": "stream",
     "text": [
      "(1, 2, 3, 4, 5) <class 'tuple'>\n"
     ]
    }
   ],
   "source": [
    "x = (1, 2, 3, 4, 5)\n",
    "print(x, type(x))"
   ]
  },
  {
   "cell_type": "code",
   "execution_count": 7,
   "id": "494bbc77-fcd4-4cb4-9d91-b341b97bc90e",
   "metadata": {},
   "outputs": [
    {
     "name": "stdout",
     "output_type": "stream",
     "text": [
      "(1, 10, 12, 5j, 'subin', [7, 8, 9], (5, 4, 8), {1, 2}, {'name': 'subin'}) <class 'tuple'>\n"
     ]
    }
   ],
   "source": [
    "# supports any type of datastructure\n",
    "# ordered collection\n",
    "x = (1, 10, 12, 5j, 'subin', [7, 8, 9], (5, 4, 8), {1, 2}, {'name': \"subin\"})\n",
    "print (x, type(x))"
   ]
  },
  {
   "cell_type": "code",
   "execution_count": 8,
   "id": "a603bb03-afbe-44f3-9ae9-cbf77ab8d970",
   "metadata": {},
   "outputs": [
    {
     "ename": "TypeError",
     "evalue": "'tuple' object does not support item assignment",
     "output_type": "error",
     "traceback": [
      "\u001b[31m---------------------------------------------------------------------------\u001b[39m",
      "\u001b[31mTypeError\u001b[39m                                 Traceback (most recent call last)",
      "\u001b[36mCell\u001b[39m\u001b[36m \u001b[39m\u001b[32mIn[8]\u001b[39m\u001b[32m, line 3\u001b[39m\n\u001b[32m      1\u001b[39m \u001b[38;5;66;03m# its immutable datasctructure and cannot be changed once defined\u001b[39;00m\n\u001b[32m      2\u001b[39m x = (\u001b[32m1\u001b[39m,\u001b[32m2\u001b[39m,\u001b[32m3\u001b[39m,\u001b[32m4\u001b[39m)\n\u001b[32m----> \u001b[39m\u001b[32m3\u001b[39m \u001b[43mx\u001b[49m\u001b[43m[\u001b[49m\u001b[32;43m0\u001b[39;49m\u001b[43m]\u001b[49m = \u001b[33m'\u001b[39m\u001b[33mSubin\u001b[39m\u001b[33m'\u001b[39m\n",
      "\u001b[31mTypeError\u001b[39m: 'tuple' object does not support item assignment"
     ]
    }
   ],
   "source": [
    "# its immutable datasctructure and cannot be changed once defined\n",
    "# TypeError: 'tuple' object does not support item assignment\n",
    "x = (1,2,3,4)\n",
    "x[0] = 'Subin'\n"
   ]
  },
  {
   "cell_type": "code",
   "execution_count": 9,
   "id": "15bb1bd7-a8dd-4c7f-86af-26d97f0280c9",
   "metadata": {},
   "outputs": [
    {
     "name": "stdout",
     "output_type": "stream",
     "text": [
      "Help on class tuple in module builtins:\n",
      "\n",
      "class tuple(object)\n",
      " |  tuple(iterable=(), /)\n",
      " |\n",
      " |  Built-in immutable sequence.\n",
      " |\n",
      " |  If no argument is given, the constructor returns an empty tuple.\n",
      " |  If iterable is specified the tuple is initialized from iterable's items.\n",
      " |\n",
      " |  If the argument is a tuple, the return value is the same object.\n",
      " |\n",
      " |  Built-in subclasses:\n",
      " |      asyncgen_hooks\n",
      " |      UnraisableHookArgs\n",
      " |\n",
      " |  Methods defined here:\n",
      " |\n",
      " |  __add__(self, value, /)\n",
      " |      Return self+value.\n",
      " |\n",
      " |  __contains__(self, key, /)\n",
      " |      Return bool(key in self).\n",
      " |\n",
      " |  __eq__(self, value, /)\n",
      " |      Return self==value.\n",
      " |\n",
      " |  __ge__(self, value, /)\n",
      " |      Return self>=value.\n",
      " |\n",
      " |  __getattribute__(self, name, /)\n",
      " |      Return getattr(self, name).\n",
      " |\n",
      " |  __getitem__(self, key, /)\n",
      " |      Return self[key].\n",
      " |\n",
      " |  __getnewargs__(self, /)\n",
      " |\n",
      " |  __gt__(self, value, /)\n",
      " |      Return self>value.\n",
      " |\n",
      " |  __hash__(self, /)\n",
      " |      Return hash(self).\n",
      " |\n",
      " |  __iter__(self, /)\n",
      " |      Implement iter(self).\n",
      " |\n",
      " |  __le__(self, value, /)\n",
      " |      Return self<=value.\n",
      " |\n",
      " |  __len__(self, /)\n",
      " |      Return len(self).\n",
      " |\n",
      " |  __lt__(self, value, /)\n",
      " |      Return self<value.\n",
      " |\n",
      " |  __mul__(self, value, /)\n",
      " |      Return self*value.\n",
      " |\n",
      " |  __ne__(self, value, /)\n",
      " |      Return self!=value.\n",
      " |\n",
      " |  __repr__(self, /)\n",
      " |      Return repr(self).\n",
      " |\n",
      " |  __rmul__(self, value, /)\n",
      " |      Return value*self.\n",
      " |\n",
      " |  count(self, value, /)\n",
      " |      Return number of occurrences of value.\n",
      " |\n",
      " |  index(self, value, start=0, stop=9223372036854775807, /)\n",
      " |      Return first index of value.\n",
      " |\n",
      " |      Raises ValueError if the value is not present.\n",
      " |\n",
      " |  ----------------------------------------------------------------------\n",
      " |  Class methods defined here:\n",
      " |\n",
      " |  __class_getitem__(object, /)\n",
      " |      See PEP 585\n",
      " |\n",
      " |  ----------------------------------------------------------------------\n",
      " |  Static methods defined here:\n",
      " |\n",
      " |  __new__(*args, **kwargs)\n",
      " |      Create and return a new object.  See help(type) for accurate signature.\n",
      "\n"
     ]
    }
   ],
   "source": [
    "# We can use help func/class to explore more on a subject\n",
    "help (tuple)"
   ]
  },
  {
   "cell_type": "code",
   "execution_count": 11,
   "id": "1dd97245-319c-4099-9338-181c16020dc6",
   "metadata": {},
   "outputs": [
    {
     "name": "stdout",
     "output_type": "stream",
     "text": [
      "2\n"
     ]
    }
   ],
   "source": [
    "x = (1,2,3,4,1,5)\n",
    "print(x.count(1))"
   ]
  },
  {
   "cell_type": "code",
   "execution_count": 12,
   "id": "3a870b54-44ec-4bf2-8c51-a14ef6afde2d",
   "metadata": {},
   "outputs": [
    {
     "name": "stdout",
     "output_type": "stream",
     "text": [
      "0\n"
     ]
    }
   ],
   "source": [
    "x = (1,2,3,4,1,5)\n",
    "print(x.index(1))"
   ]
  },
  {
   "cell_type": "code",
   "execution_count": 13,
   "id": "b8a4bee3-1a51-4a79-930c-c57c4970e158",
   "metadata": {},
   "outputs": [
    {
     "name": "stdout",
     "output_type": "stream",
     "text": [
      "1 <class 'int'>\n"
     ]
    }
   ],
   "source": [
    "x = (1)\n",
    "print(x, type(x))"
   ]
  },
  {
   "cell_type": "code",
   "execution_count": 14,
   "id": "d0274bab-f3b2-4589-a4a8-81a2467f256c",
   "metadata": {},
   "outputs": [
    {
     "name": "stdout",
     "output_type": "stream",
     "text": [
      "(1,) <class 'tuple'>\n"
     ]
    }
   ],
   "source": [
    "# You need to at least give a comma to call it as tuple even while using ()\n",
    "x = (1,)\n",
    "print(x, type(x))"
   ]
  },
  {
   "cell_type": "code",
   "execution_count": 15,
   "id": "971ce748-70ea-401f-bc0b-ef628afe08c5",
   "metadata": {},
   "outputs": [
    {
     "name": "stdout",
     "output_type": "stream",
     "text": [
      "(1, 2, 3) <class 'tuple'>\n"
     ]
    }
   ],
   "source": [
    "# Tuple can be created even without brackets\n",
    "x = 1,2,3\n",
    "print(x, type(x))"
   ]
  },
  {
   "cell_type": "code",
   "execution_count": 16,
   "id": "3f591303-4713-4fd8-9498-2abdd425d2a4",
   "metadata": {},
   "outputs": [
    {
     "name": "stdout",
     "output_type": "stream",
     "text": [
      "1\n",
      "2\n",
      "3\n"
     ]
    }
   ],
   "source": [
    "# Tuple unpacking\n",
    "x,y,z = 1,2,3\n",
    "print(x)\n",
    "print(y)\n",
    "print(z)"
   ]
  },
  {
   "cell_type": "code",
   "execution_count": null,
   "id": "334bed4d-e6b5-4771-bf06-4a1cebdaf66d",
   "metadata": {},
   "outputs": [],
   "source": [
    "# Tuple is faster than list and take less memory. \n",
    "# Its a heterogenous ds while list is usually considered homogenous."
   ]
  },
  {
   "cell_type": "code",
   "execution_count": 39,
   "id": "4255fdce-1e91-4adf-8b00-dda0d0a2edb5",
   "metadata": {},
   "outputs": [
    {
     "name": "stdout",
     "output_type": "stream",
     "text": [
      "{'id': 1, 'name': 'Subin', 'country': 'Nepal'} <class 'dict'>\n",
      "Subin\n",
      "dict_items([('id', 1), ('name', 'Subin'), ('country', 'Nepal'), ('email', 'subinkhatiwada@gmail.com')])\n",
      "dict_keys(['name', 'country', 'email']) dict_values(['Subin', 'Nepal', 'subinkhatiwada@gmail.com'])\n",
      "subinkhatiwada@gmail.com\n"
     ]
    }
   ],
   "source": [
    "# Dictonary => key:value pair with comma separated\n",
    "person = {\n",
    "    'id' : 1,\n",
    "    'name' : 'Subin',\n",
    "    'country' : 'Nepal'\n",
    "}\n",
    "print(person, type(person))\n",
    "print(person['name'])\n",
    "person['email'] = 'subinkhatiwada@gmail.com'\n",
    "print(person.items())\n",
    "del person['id']\n",
    "print(person.keys(), person.values())\n",
    "print(person.get('email', 0))"
   ]
  },
  {
   "cell_type": "code",
   "execution_count": 38,
   "id": "504bbc33-48eb-449e-86ba-2ed5392f5063",
   "metadata": {},
   "outputs": [
    {
     "name": "stdout",
     "output_type": "stream",
     "text": [
      "Help on class dict in module builtins:\n",
      "\n",
      "class dict(object)\n",
      " |  dict() -> new empty dictionary\n",
      " |  dict(mapping) -> new dictionary initialized from a mapping object's\n",
      " |      (key, value) pairs\n",
      " |  dict(iterable) -> new dictionary initialized as if via:\n",
      " |      d = {}\n",
      " |      for k, v in iterable:\n",
      " |          d[k] = v\n",
      " |  dict(**kwargs) -> new dictionary initialized with the name=value pairs\n",
      " |      in the keyword argument list.  For example:  dict(one=1, two=2)\n",
      " |\n",
      " |  Methods defined here:\n",
      " |\n",
      " |  __contains__(self, key, /)\n",
      " |      True if the dictionary has the specified key, else False.\n",
      " |\n",
      " |  __delitem__(self, key, /)\n",
      " |      Delete self[key].\n",
      " |\n",
      " |  __eq__(self, value, /)\n",
      " |      Return self==value.\n",
      " |\n",
      " |  __ge__(self, value, /)\n",
      " |      Return self>=value.\n",
      " |\n",
      " |  __getattribute__(self, name, /)\n",
      " |      Return getattr(self, name).\n",
      " |\n",
      " |  __getitem__(self, key, /)\n",
      " |      Return self[key].\n",
      " |\n",
      " |  __gt__(self, value, /)\n",
      " |      Return self>value.\n",
      " |\n",
      " |  __init__(self, /, *args, **kwargs)\n",
      " |      Initialize self.  See help(type(self)) for accurate signature.\n",
      " |\n",
      " |  __ior__(self, value, /)\n",
      " |      Return self|=value.\n",
      " |\n",
      " |  __iter__(self, /)\n",
      " |      Implement iter(self).\n",
      " |\n",
      " |  __le__(self, value, /)\n",
      " |      Return self<=value.\n",
      " |\n",
      " |  __len__(self, /)\n",
      " |      Return len(self).\n",
      " |\n",
      " |  __lt__(self, value, /)\n",
      " |      Return self<value.\n",
      " |\n",
      " |  __ne__(self, value, /)\n",
      " |      Return self!=value.\n",
      " |\n",
      " |  __or__(self, value, /)\n",
      " |      Return self|value.\n",
      " |\n",
      " |  __repr__(self, /)\n",
      " |      Return repr(self).\n",
      " |\n",
      " |  __reversed__(self, /)\n",
      " |      Return a reverse iterator over the dict keys.\n",
      " |\n",
      " |  __ror__(self, value, /)\n",
      " |      Return value|self.\n",
      " |\n",
      " |  __setitem__(self, key, value, /)\n",
      " |      Set self[key] to value.\n",
      " |\n",
      " |  __sizeof__(self, /)\n",
      " |      Return the size of the dict in memory, in bytes.\n",
      " |\n",
      " |  clear(self, /)\n",
      " |      Remove all items from the dict.\n",
      " |\n",
      " |  copy(self, /)\n",
      " |      Return a shallow copy of the dict.\n",
      " |\n",
      " |  get(self, key, default=None, /)\n",
      " |      Return the value for key if key is in the dictionary, else default.\n",
      " |\n",
      " |  items(self, /)\n",
      " |      Return a set-like object providing a view on the dict's items.\n",
      " |\n",
      " |  keys(self, /)\n",
      " |      Return a set-like object providing a view on the dict's keys.\n",
      " |\n",
      " |  pop(self, key, default=<unrepresentable>, /)\n",
      " |      D.pop(k[,d]) -> v, remove specified key and return the corresponding value.\n",
      " |\n",
      " |      If the key is not found, return the default if given; otherwise,\n",
      " |      raise a KeyError.\n",
      " |\n",
      " |  popitem(self, /)\n",
      " |      Remove and return a (key, value) pair as a 2-tuple.\n",
      " |\n",
      " |      Pairs are returned in LIFO (last-in, first-out) order.\n",
      " |      Raises KeyError if the dict is empty.\n",
      " |\n",
      " |  setdefault(self, key, default=None, /)\n",
      " |      Insert key with a value of default if key is not in the dictionary.\n",
      " |\n",
      " |      Return the value for key if key is in the dictionary, else default.\n",
      " |\n",
      " |  update(...)\n",
      " |      D.update([E, ]**F) -> None.  Update D from mapping/iterable E and F.\n",
      " |      If E is present and has a .keys() method, then does:  for k in E.keys(): D[k] = E[k]\n",
      " |      If E is present and lacks a .keys() method, then does:  for k, v in E: D[k] = v\n",
      " |      In either case, this is followed by: for k in F:  D[k] = F[k]\n",
      " |\n",
      " |  values(self, /)\n",
      " |      Return an object providing a view on the dict's values.\n",
      " |\n",
      " |  ----------------------------------------------------------------------\n",
      " |  Class methods defined here:\n",
      " |\n",
      " |  __class_getitem__(object, /)\n",
      " |      See PEP 585\n",
      " |\n",
      " |  fromkeys(iterable, value=None, /)\n",
      " |      Create a new dictionary with keys from iterable and values set to value.\n",
      " |\n",
      " |  ----------------------------------------------------------------------\n",
      " |  Static methods defined here:\n",
      " |\n",
      " |  __new__(*args, **kwargs)\n",
      " |      Create and return a new object.  See help(type) for accurate signature.\n",
      " |\n",
      " |  ----------------------------------------------------------------------\n",
      " |  Data and other attributes defined here:\n",
      " |\n",
      " |  __hash__ = None\n",
      "\n"
     ]
    }
   ],
   "source": [
    "help (dict)"
   ]
  },
  {
   "cell_type": "code",
   "execution_count": 40,
   "id": "bdee6a11-75d2-40e2-b081-eac0b919a553",
   "metadata": {},
   "outputs": [
    {
     "name": "stdout",
     "output_type": "stream",
     "text": [
      "{}\n"
     ]
    }
   ],
   "source": [
    "person = {\n",
    "    'id' : 1,\n",
    "    'name' : 'Subin',\n",
    "    'country' : 'Nepal'\n",
    "}\n",
    "person.clear()\n",
    "print(person)"
   ]
  },
  {
   "cell_type": "code",
   "execution_count": 45,
   "id": "ffb85379-c8bc-4f9f-834f-5497a9a47aae",
   "metadata": {},
   "outputs": [
    {
     "name": "stdout",
     "output_type": "stream",
     "text": [
      "{'name': 'Subin', 'country': 'Nepal', 'emal': 'xyz@gmail.com', 'occupation': 'Engineer'}\n"
     ]
    }
   ],
   "source": [
    "person = {\n",
    "    'id' : 1,\n",
    "    'name' : 'Subin',\n",
    "    'country' : 'Nepal'\n",
    "}\n",
    "person.pop('id') # works similar as del person['id']\n",
    "person.update({'emal':'xyz@gmail.com', 'occupation':'Engineer'}) # add items with update method, use {...items}\n",
    "print(person)"
   ]
  },
  {
   "cell_type": "code",
   "execution_count": null,
   "id": "93ff303a-f49f-48b0-89f4-4dd22cec9a10",
   "metadata": {},
   "outputs": [],
   "source": [
    "# tuple, int, float, complex (number datatypes), string => immutable\n",
    "# list, dictonary, set => mutable"
   ]
  },
  {
   "cell_type": "code",
   "execution_count": 46,
   "id": "e534c797-042d-442c-88cd-f3a3f66c1417",
   "metadata": {},
   "outputs": [
    {
     "name": "stdout",
     "output_type": "stream",
     "text": [
      "{1, 2, 3, 4, 5} <class 'set'>\n"
     ]
    }
   ],
   "source": [
    "# set datatype => unordered collection => output only unique items\n",
    "s = {1,2,3,4,5}\n",
    "print(s, type(s))"
   ]
  },
  {
   "cell_type": "code",
   "execution_count": 49,
   "id": "9c621f44-7cd6-49a9-805e-d989b3722a98",
   "metadata": {},
   "outputs": [
    {
     "name": "stdout",
     "output_type": "stream",
     "text": [
      "{1, 5, 7.8, (1, 2, 3), 'Subin'}\n"
     ]
    }
   ],
   "source": [
    "s = {'Subin', 1, 5, 7.8, (1,2,3), 1, 'Subin'} # filter out repeated items\n",
    "print(s)"
   ]
  },
  {
   "cell_type": "code",
   "execution_count": 50,
   "id": "4b319698-0fc3-4990-ada1-0c285b7ffab6",
   "metadata": {},
   "outputs": [
    {
     "ename": "TypeError",
     "evalue": "unhashable type: 'list'",
     "output_type": "error",
     "traceback": [
      "\u001b[31m---------------------------------------------------------------------------\u001b[39m",
      "\u001b[31mTypeError\u001b[39m                                 Traceback (most recent call last)",
      "\u001b[36mCell\u001b[39m\u001b[36m \u001b[39m\u001b[32mIn[50]\u001b[39m\u001b[32m, line 2\u001b[39m\n\u001b[32m      1\u001b[39m \u001b[38;5;66;03m# Set cannot store mutable/unhashable datastructure like lists[]/dict\u001b[39;00m\n\u001b[32m----> \u001b[39m\u001b[32m2\u001b[39m s = {\u001b[33m'\u001b[39m\u001b[33mSubin\u001b[39m\u001b[33m'\u001b[39m, \u001b[32m1\u001b[39m, \u001b[32m5\u001b[39m, \u001b[32m7.8\u001b[39m, (\u001b[32m1\u001b[39m,\u001b[32m2\u001b[39m,\u001b[32m3\u001b[39m), \u001b[32m1\u001b[39m, \u001b[33m'\u001b[39m\u001b[33mSubin\u001b[39m\u001b[33m'\u001b[39m, [\u001b[33m'\u001b[39m\u001b[33ma\u001b[39m\u001b[33m'\u001b[39m,\u001b[32m1\u001b[39m,\u001b[32m2\u001b[39m]} \n\u001b[32m      3\u001b[39m \u001b[38;5;28mprint\u001b[39m(s)\n",
      "\u001b[31mTypeError\u001b[39m: unhashable type: 'list'"
     ]
    }
   ],
   "source": [
    "# Set cannot store mutable/unhashable datastructure like lists[]/dict\n",
    "# TypeError: unhashable type: 'list'\n",
    "s = {'Subin', 1, 5, 7.8, (1,2,3), 1, 'Subin', ['a',1,2]} # cant store list\n",
    "print(s)"
   ]
  },
  {
   "cell_type": "code",
   "execution_count": 54,
   "id": "c18f16b2-00ae-4973-a746-f14c023b7f85",
   "metadata": {},
   "outputs": [
    {
     "name": "stdout",
     "output_type": "stream",
     "text": [
      "{1, 'Bimala', 5, 7.8, (1, 2, 3), 'Subin', (6, 7, 8)}\n"
     ]
    }
   ],
   "source": [
    "s = {'Subin', 1, 5, 7.8, (1,2,3)}\n",
    "# s.add('64', 'Bimala') # only one argument can be given\n",
    "s.add('Bimala') \n",
    "s.add((6,7,8)) #can add any immutable ds type.\n",
    "print(s)"
   ]
  },
  {
   "cell_type": "code",
   "execution_count": 55,
   "id": "2e96dadb-5cd1-4997-9022-5f924e43283b",
   "metadata": {},
   "outputs": [
    {
     "name": "stdout",
     "output_type": "stream",
     "text": [
      "{1, 7, 5, 6, 7.8, 8, (1, 2, 3), 'Subin'}\n"
     ]
    }
   ],
   "source": [
    "s = {'Subin', 1, 5, 7.8, (1,2,3)}\n",
    "s.update((6,7,8)) # update methods add elements in expanded format\n",
    "print(s)"
   ]
  },
  {
   "cell_type": "code",
   "execution_count": 56,
   "id": "b5aca573-e3fb-49b7-986f-3af03b4541d1",
   "metadata": {},
   "outputs": [
    {
     "name": "stdout",
     "output_type": "stream",
     "text": [
      "set()\n"
     ]
    }
   ],
   "source": [
    "s = {'Subin', 1, 5, 7.8, (1,2,3)}\n",
    "s.clear() # removes everything from the set\n",
    "print(s)"
   ]
  },
  {
   "cell_type": "code",
   "execution_count": 57,
   "id": "ad69990f-0d68-4dcb-b167-a36a8f8fd04f",
   "metadata": {},
   "outputs": [
    {
     "name": "stdout",
     "output_type": "stream",
     "text": [
      "{5, 7.8, (1, 2, 3), 'Subin'}\n"
     ]
    }
   ],
   "source": [
    "s = {'Subin', 1, 5, 7.8, (1,2,3)}\n",
    "s.remove(1) # removes the given item\n",
    "print(s)"
   ]
  },
  {
   "cell_type": "code",
   "execution_count": 58,
   "id": "c2942441-f77d-4659-8b33-857e3e33ca91",
   "metadata": {},
   "outputs": [
    {
     "name": "stdout",
     "output_type": "stream",
     "text": [
      "{5, 7.8, (1, 2, 3), 'Subin'}\n"
     ]
    }
   ],
   "source": [
    "s = {'Subin', 1, 5, 7.8, (1,2,3)}\n",
    "s.discard(1)\n",
    "print(s)"
   ]
  },
  {
   "cell_type": "code",
   "execution_count": null,
   "id": "42aa9808-f478-4fec-9d6f-3be8e1c9225a",
   "metadata": {},
   "outputs": [],
   "source": [
    "s = {'Subin', 1, 5, 7.8, (1,2,3)}\n",
    "s.discard(12) # no error popup even if the given item is not in the set"
   ]
  },
  {
   "cell_type": "code",
   "execution_count": 3,
   "id": "05697cd7-f1e4-4e49-a049-d760df659e58",
   "metadata": {},
   "outputs": [
    {
     "name": "stdout",
     "output_type": "stream",
     "text": [
      "<class 'frozenset'>\n"
     ]
    },
    {
     "ename": "AttributeError",
     "evalue": "'frozenset' object has no attribute 'add'",
     "output_type": "error",
     "traceback": [
      "\u001b[0;31m---------------------------------------------------------------------------\u001b[0m",
      "\u001b[0;31mAttributeError\u001b[0m                            Traceback (most recent call last)",
      "Cell \u001b[0;32mIn[3], line 3\u001b[0m\n\u001b[1;32m      1\u001b[0m s \u001b[38;5;241m=\u001b[39m \u001b[38;5;28mfrozenset\u001b[39m([\u001b[38;5;241m1\u001b[39m,\u001b[38;5;241m2\u001b[39m,\u001b[38;5;241m3\u001b[39m,\u001b[38;5;241m4\u001b[39m]) \u001b[38;5;66;03m# immutable set\u001b[39;00m\n\u001b[1;32m      2\u001b[0m \u001b[38;5;28mprint\u001b[39m(\u001b[38;5;28mtype\u001b[39m(s))\n\u001b[0;32m----> 3\u001b[0m \u001b[43ms\u001b[49m\u001b[38;5;241;43m.\u001b[39;49m\u001b[43madd\u001b[49m(\u001b[38;5;124m'\u001b[39m\u001b[38;5;124m1\u001b[39m\u001b[38;5;124m'\u001b[39m)\n",
      "\u001b[0;31mAttributeError\u001b[0m: 'frozenset' object has no attribute 'add'"
     ]
    }
   ],
   "source": [
    "s = frozenset([1,2,3,4]) # immutable set\n",
    "print(type(s))\n",
    "s.add('1')"
   ]
  },
  {
   "cell_type": "code",
   "execution_count": null,
   "id": "1d35de1f-5b0b-429c-9086-d30005bf510d",
   "metadata": {},
   "outputs": [
    {
     "name": "stdout",
     "output_type": "stream",
     "text": [
      "0.28366218546322625\n"
     ]
    }
   ],
   "source": [
    "# Python Standard Library \n",
    "'''\n",
    "The Python Standard Library consists of different modules for handling file\n",
    "I/O, basic mathematics, etc. \n",
    "The math module has all the basic math functions you need, such as: Trigonometric functions: sin(x), cos(x), etc. Logarithmic functions: log(), log10(), etc.\n",
    "Constants like pi, e, inf, nan, etc. etc.\n",
    "see:\n",
    "https://docs.python.org/3/library/index.html\n",
    "'''\n",
    "\n",
    "from math import sin, cos\n",
    "# from math import * => import everything with *\n",
    "x = 5\n",
    "y = cos(x)\n",
    "print(y)"
   ]
  },
  {
   "cell_type": "code",
   "execution_count": null,
   "id": "16820694",
   "metadata": {},
   "outputs": [],
   "source": [
    "import math as mt # can import modules as (our own name)\n",
    "# import math => then y = math.sin(x) => alternative way"
   ]
  }
 ],
 "metadata": {
  "kernelspec": {
   "display_name": ".venv",
   "language": "python",
   "name": "python3"
  },
  "language_info": {
   "codemirror_mode": {
    "name": "ipython",
    "version": 3
   },
   "file_extension": ".py",
   "mimetype": "text/x-python",
   "name": "python",
   "nbconvert_exporter": "python",
   "pygments_lexer": "ipython3",
   "version": "3.12.9"
  }
 },
 "nbformat": 4,
 "nbformat_minor": 5
}
