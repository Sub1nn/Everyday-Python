{
 "cells": [
  {
   "cell_type": "code",
   "execution_count": null,
   "id": "b0168bc9-08ea-41c4-9b2b-5975ec1a1c95",
   "metadata": {},
   "outputs": [],
   "source": [
    "# OOP => Object Oriented Programming\n",
    "# class => Person => blueprint / structure / template\n",
    "# object => ram => instance / actually exists"
   ]
  },
  {
   "cell_type": "code",
   "execution_count": null,
   "id": "e21e63f8-2415-48a2-8d88-2e378d398735",
   "metadata": {},
   "outputs": [],
   "source": [
    "class Tv:\n",
    "    size = 65\n",
    "    color = 'black'\n",
    "    brand = 'LG'\n",
    "    model = 'Nanocell'\n",
    "    resolution = '4K'\n",
    "    price = 210000"
   ]
  },
  {
   "cell_type": "code",
   "execution_count": 24,
   "id": "96fbb67e-5946-4009-8b1c-91c589030cfe",
   "metadata": {},
   "outputs": [],
   "source": [
    "class Person:\n",
    "    # attribute / property\n",
    "    name = 'Subin'\n",
    "    age = '33'\n",
    "    gender = 'male'\n",
    "    address = 'Ktm'\n",
    "\n",
    "    # action / behaviour / characteristics / method\n",
    "    def work():\n",
    "        print('working...')\n",
    "    def eat():\n",
    "        print ('eating...')\n",
    "    def sleep():\n",
    "        print('sleeping...')"
   ]
  },
  {
   "cell_type": "code",
   "execution_count": 25,
   "id": "435e16d9-cd2e-413e-ba28-fa882c062004",
   "metadata": {},
   "outputs": [
    {
     "name": "stdout",
     "output_type": "stream",
     "text": [
      "<bound method Person.work of <__main__.Person object at 0x105b3bcb0>>\n"
     ]
    }
   ],
   "source": [
    "Subin = Person() # Subin is an object of class Person\n",
    "print(Subin.work)"
   ]
  },
  {
   "cell_type": "code",
   "execution_count": 9,
   "id": "37b60328-ea6f-49a5-811c-fdd4998406d0",
   "metadata": {},
   "outputs": [
    {
     "data": {
      "text/plain": [
       "'Subin'"
      ]
     },
     "execution_count": 9,
     "metadata": {},
     "output_type": "execute_result"
    }
   ],
   "source": [
    "Subin.name"
   ]
  },
  {
   "cell_type": "code",
   "execution_count": 21,
   "id": "69b993f9-e67a-49ff-b21c-0e2baef64550",
   "metadata": {},
   "outputs": [],
   "source": [
    "class Person:\n",
    "    def __init__(self, name, age, gender, address):\n",
    "        self.name = name\n",
    "        self.age = age\n",
    "        self.gender = gender\n",
    "        self.address = address\n",
    "\n",
    "    def details(self):\n",
    "        return(f'Hii I am {self.name} age {self.age}. I am from {self.address}')"
   ]
  },
  {
   "cell_type": "code",
   "execution_count": 22,
   "id": "66e539ea-e9e7-473b-bc6a-c310eed971bf",
   "metadata": {},
   "outputs": [
    {
     "name": "stdout",
     "output_type": "stream",
     "text": [
      "Hii I am Subin age 32. I am from KTM\n"
     ]
    }
   ],
   "source": [
    "Subin = Person('Subin', '32', 'male', 'KTM')\n",
    "print(Subin.details())"
   ]
  },
  {
   "cell_type": "code",
   "execution_count": 56,
   "id": "379f08a0-b4d0-49e8-be1a-a2cb40c5b373",
   "metadata": {},
   "outputs": [],
   "source": [
    "class Student:\n",
    "    def __init__(self, name, age, gender, address, clg, faculty):\n",
    "        self.name = name\n",
    "        self.age = age\n",
    "        self.gender = gender\n",
    "        self.address = address\n",
    "        self.clg = clg\n",
    "        self.faculty = faculty\n",
    "        self.subjects = []\n",
    "\n",
    "    def add_subject(self, sub):\n",
    "        if sub not in self.subjects:\n",
    "            self.subjects.append(sub)\n",
    "\n",
    "    def details(self):\n",
    "        return(f'Hii I am {self.name} age {self.age}. I am from {self.address}')"
   ]
  },
  {
   "cell_type": "code",
   "execution_count": 57,
   "id": "8ad9b7e6-7652-489e-8ab0-26be5d32e4d2",
   "metadata": {},
   "outputs": [
    {
     "name": "stdout",
     "output_type": "stream",
     "text": [
      "Hii I am Rohan age 28. I am from Pokhara\n"
     ]
    }
   ],
   "source": [
    "Rohan = Student('Rohan', 28, 'male', 'Pokhara', 'CCRC', 'Science')\n",
    "print(Rohan.details())"
   ]
  },
  {
   "cell_type": "code",
   "execution_count": 30,
   "id": "91f0ee40-2207-4994-8df0-c089b7b28951",
   "metadata": {},
   "outputs": [],
   "source": [
    "class Rectangle:\n",
    "    def __init__(self, length, breadth):\n",
    "        self.l = length\n",
    "        self.b = breadth\n",
    "\n",
    "    def area(self):\n",
    "        return self.l * self.b\n",
    "    def perimeter(self):\n",
    "        return 2 * (self.l + self.b)\n",
    "    "
   ]
  },
  {
   "cell_type": "code",
   "execution_count": 33,
   "id": "17affef3-aefc-4452-a8f4-4ccd2a654779",
   "metadata": {},
   "outputs": [
    {
     "data": {
      "text/plain": [
       "18"
      ]
     },
     "execution_count": 33,
     "metadata": {},
     "output_type": "execute_result"
    }
   ],
   "source": [
    "r1 = Rectangle(5 , 4)\n",
    "r1.area()\n",
    "r1.perimeter()"
   ]
  },
  {
   "cell_type": "code",
   "execution_count": 39,
   "id": "a5f1ad7f-7483-46a0-8c13-6eb8030b50ee",
   "metadata": {},
   "outputs": [],
   "source": [
    "from math import pi\n",
    "class Circle():\n",
    "    def __init__(self,radius):\n",
    "        self.r = radius\n",
    "    def area(self):\n",
    "        return pi * self.r**2\n",
    "        "
   ]
  },
  {
   "cell_type": "code",
   "execution_count": 40,
   "id": "2802f944-6ae5-4e6b-abb3-9d58109a3ab1",
   "metadata": {},
   "outputs": [
    {
     "data": {
      "text/plain": [
       "78.53981633974483"
      ]
     },
     "execution_count": 40,
     "metadata": {},
     "output_type": "execute_result"
    }
   ],
   "source": [
    "c1 = Circle(5)\n",
    "c1.area()"
   ]
  },
  {
   "cell_type": "code",
   "execution_count": 41,
   "id": "a6b693bf-5dcd-485c-bbda-a6917f330d9c",
   "metadata": {},
   "outputs": [],
   "source": [
    "class Circle():\n",
    "    PI =  3.14      # class-level constant\n",
    "    def __init__(self,radius):\n",
    "        self.r = radius\n",
    "    def area(self):\n",
    "        return Circle.PI * self.r**2"
   ]
  },
  {
   "cell_type": "code",
   "execution_count": 42,
   "id": "9b35a90a-1ab5-4b9b-af2d-723ec412abd6",
   "metadata": {},
   "outputs": [
    {
     "data": {
      "text/plain": [
       "78.5"
      ]
     },
     "execution_count": 42,
     "metadata": {},
     "output_type": "execute_result"
    }
   ],
   "source": [
    "c1 = Circle(5)\n",
    "c1.area()"
   ]
  },
  {
   "cell_type": "code",
   "execution_count": 50,
   "id": "37cbf441-873d-480a-8b5d-16adca99064a",
   "metadata": {},
   "outputs": [],
   "source": [
    "class Person:\n",
    "    def __init__(self, name ,age, address):\n",
    "        self.name = name\n",
    "        self.age = age\n",
    "        self.address = address\n",
    "    \n",
    "    def eat(self):\n",
    "        print(f'{self.name} is eating')\n",
    "    \n",
    "    def sleep(self):\n",
    "        print(f'{self.name} is sleeping')\n",
    "    \n",
    "    def walk(self):\n",
    "        print(f'{self.name} is walking')\n",
    "        \n",
    "    def info(self):\n",
    "        print(f\"Name: {self.name}\")\n",
    "        print(f\"Age: {self.age}\")\n",
    "        print(f\"Address: {self.address}\")\n"
   ]
  },
  {
   "cell_type": "code",
   "execution_count": 49,
   "id": "1529b6d7-f911-4b7f-bae0-4d93fa5f8d85",
   "metadata": {},
   "outputs": [],
   "source": [
    "class Student:\n",
    "    def __init__(self, name, age, address, college, faculty, roll_no):\n",
    "        self.name = name\n",
    "        self.age = age        \n",
    "        self.address = address        \n",
    "        self.college = college\n",
    "        self.faculty = faculty        \n",
    "        self.roll_no = roll_no\n",
    "        self.subjects = []\n",
    "        \n",
    "    def learn(self):\n",
    "        print(f\"Student is learning: {self.subjects}\")\n",
    "\n",
    "    def add_subject(self, name):\n",
    "        if name not in self.subjects:\n",
    "            self.subjects.append(name)\n",
    "\n",
    "    def eat(self):\n",
    "        print(f'{self.name} is eating')\n",
    "    \n",
    "    def sleep(self):\n",
    "        print(f'{self.name} is sleeping')\n",
    "    \n",
    "    def walk(self):\n",
    "        print(f'{self.name} is walking')\n",
    "        \n",
    "    def info(self):\n",
    "        print(f\"Name: {self.name}\")\n",
    "        print(f\"Age: {self.age}\")\n",
    "        print(f\"Address: {self.address}\")\n",
    "        print(f\"College: {self.college}\")\n",
    "        print(f\"Faculty: {self.faculty}\")\n",
    "        print(f\"Roll no: {self.roll_no}\")\n",
    "        print(f\"Subjects: {self.subjects}\")"
   ]
  },
  {
   "cell_type": "code",
   "execution_count": null,
   "id": "67ea784b-9a16-4352-9d79-ed3b183d1162",
   "metadata": {},
   "outputs": [],
   "source": [
    "# Inheritance"
   ]
  },
  {
   "cell_type": "code",
   "execution_count": 47,
   "id": "5944886a-4303-49fe-b8f7-20b19202fa8d",
   "metadata": {},
   "outputs": [],
   "source": [
    "class Parent:\n",
    "    def hello(self):\n",
    "        print('How are you?')\n",
    "\n",
    "class Child(Parent): # Single Inheritance\n",
    "    pass\n",
    "    "
   ]
  },
  {
   "cell_type": "code",
   "execution_count": 48,
   "id": "b7efe281-eb43-4b91-9fc3-ea6d4fcd05cd",
   "metadata": {},
   "outputs": [
    {
     "name": "stdout",
     "output_type": "stream",
     "text": [
      "How are you?\n"
     ]
    }
   ],
   "source": [
    "c1 = Child()\n",
    "c1.hello()"
   ]
  },
  {
   "cell_type": "code",
   "execution_count": 2,
   "id": "592a94b4-e654-481f-949d-e7674d28fa6d",
   "metadata": {},
   "outputs": [],
   "source": [
    "class Person:\n",
    "    def __init__(self, name ,age, address):\n",
    "        self.name = name\n",
    "        self.age = age\n",
    "        self.address = address\n",
    "    \n",
    "    def eat(self):\n",
    "        print(f'{self.name} is eating')\n",
    "    \n",
    "    def sleep(self):\n",
    "        print(f'{self.name} is sleeping')\n",
    "    \n",
    "    def walk(self):\n",
    "        print(f'{self.name} is walking')\n",
    "        \n",
    "    def info(self):\n",
    "        print(f\"Name: {self.name}\")\n",
    "        print(f\"Age: {self.age}\")\n",
    "        print(f\"Address: {self.address}\")"
   ]
  },
  {
   "cell_type": "code",
   "execution_count": 15,
   "id": "2d4c6a6f-3920-4e9b-9fbd-6bfa7e494ef9",
   "metadata": {},
   "outputs": [],
   "source": [
    "class Student(Person): # Student class inherits eat(), sleep(), walk() methods from Person class\n",
    "    def __init__(self, name, age, address, college, faculty, roll_no):\n",
    "        # calling the Person's __init__ method to initialize the value with super()\n",
    "        super().__init__(name ,age, address)        \n",
    "        self.college = college\n",
    "        self.faculty = faculty        \n",
    "        self.roll_no = roll_no\n",
    "        self.subjects = []\n",
    "        \n",
    "    def learn(self):\n",
    "        print(f\"Student is learning: {self.subjects}\")\n",
    "\n",
    "    def add_subject(self, name):\n",
    "        if name not in self.subjects:\n",
    "            self.subjects.append(name)\n",
    "        \n",
    "    def info(self):\n",
    "        super().info()\n",
    "        print(f\"College: {self.college}\")\n",
    "        print(f\"Faculty: {self.faculty}\")\n",
    "        print(f\"Roll no: {self.roll_no}\")\n",
    "        print(f\"Subjects: {self.subjects}\")"
   ]
  },
  {
   "cell_type": "code",
   "execution_count": 16,
   "id": "87533edf-2e7f-477f-902c-4f3f5640fe7b",
   "metadata": {},
   "outputs": [
    {
     "name": "stdout",
     "output_type": "stream",
     "text": [
      "Name: Ram\n",
      "Age: 23\n",
      "Address: KTM\n",
      "College: NCIT\n",
      "Faculty: IT\n",
      "Roll no: 1\n",
      "Subjects: []\n"
     ]
    }
   ],
   "source": [
    "s1 = Student('Ram', 23, 'KTM', 'NCIT', 'IT', 1)\n",
    "s1.info()"
   ]
  },
  {
   "cell_type": "code",
   "execution_count": 61,
   "id": "2aa39326-4a4c-4805-9bca-513353cf52a5",
   "metadata": {},
   "outputs": [
    {
     "name": "stdout",
     "output_type": "stream",
     "text": [
      "Ram is sleeping\n"
     ]
    }
   ],
   "source": [
    "s1.sleep() # sleep() method not defined inside Student class but is inherited from Person"
   ]
  },
  {
   "cell_type": "code",
   "execution_count": 6,
   "id": "20407680-2708-4317-a949-d01933f0843f",
   "metadata": {},
   "outputs": [],
   "source": [
    "s1.add_subject('Python')"
   ]
  },
  {
   "cell_type": "code",
   "execution_count": 17,
   "id": "62d2f083-1d9a-4413-a78e-b766ab88e381",
   "metadata": {},
   "outputs": [
    {
     "name": "stdout",
     "output_type": "stream",
     "text": [
      "Name: Ram\n",
      "Age: 23\n",
      "Address: KTM\n",
      "College: NCIT\n",
      "Faculty: IT\n",
      "Roll no: 1\n",
      "Subjects: []\n"
     ]
    }
   ],
   "source": [
    "s1.info()"
   ]
  },
  {
   "cell_type": "code",
   "execution_count": null,
   "id": "c43880ef-6848-417a-a3f9-92958a991790",
   "metadata": {},
   "outputs": [],
   "source": [
    "class Father:\n",
    "    pass"
   ]
  },
  {
   "cell_type": "code",
   "execution_count": null,
   "id": "dee97508-ff8f-4adb-ada8-406086da9e0b",
   "metadata": {},
   "outputs": [],
   "source": [
    "class Mother:\n",
    "    pass"
   ]
  },
  {
   "cell_type": "code",
   "execution_count": null,
   "id": "334b6683-28ba-42d1-a86f-89b16e1b221e",
   "metadata": {},
   "outputs": [],
   "source": [
    "class Child(Father, Mother): # Multiple inheritance\n",
    "    pass"
   ]
  },
  {
   "cell_type": "code",
   "execution_count": 18,
   "id": "d7910d24-8d93-4fb4-9f2a-6ff8f8bbb814",
   "metadata": {},
   "outputs": [],
   "source": [
    "class Person:\n",
    "    def person_info(self, name, age):\n",
    "        print('Inside Person class')\n",
    "        print('Name:', name, 'Age:', age)"
   ]
  },
  {
   "cell_type": "code",
   "execution_count": 26,
   "id": "3d073c2f-3682-4f8b-8fa3-e4b0445ea2ca",
   "metadata": {},
   "outputs": [],
   "source": [
    "class Company:\n",
    "    def company_info(self, company_name, location):\n",
    "        print('Inside Company class')\n",
    "        print('Name:', company_name, 'location:', location)"
   ]
  },
  {
   "cell_type": "code",
   "execution_count": 27,
   "id": "bf9ceee3-5ae7-4794-af95-c6cef776c69c",
   "metadata": {},
   "outputs": [],
   "source": [
    "class Employee(Person,Company):\n",
    "    def employee_info(self, salary, skill):\n",
    "        print('Inside Employee class')\n",
    "        print('Salary:', salary, 'Skill:', skill)"
   ]
  },
  {
   "cell_type": "code",
   "execution_count": 28,
   "id": "d4bfe27c-edb2-48ac-8ea0-b79779710769",
   "metadata": {},
   "outputs": [
    {
     "name": "stdout",
     "output_type": "stream",
     "text": [
      "Inside Person class\n",
      "Name: Subin Age: 32\n",
      "Inside Company class\n",
      "Name: Google location: Finland\n",
      "Inside Employee class\n",
      "Salary: 200000 Skill: AIML\n"
     ]
    }
   ],
   "source": [
    "emp = Employee()\n",
    "emp.person_info('Subin', 32)\n",
    "emp.company_info('Google', 'Finland')\n",
    "emp.employee_info(200000, 'AIML')"
   ]
  },
  {
   "cell_type": "code",
   "execution_count": null,
   "id": "248c512c-cea6-4cdf-b259-637778ac14b5",
   "metadata": {},
   "outputs": [],
   "source": [
    "# Multi-level inheritance\n",
    "class Person:\n",
    "    def __init__(self, name ,age, address):\n",
    "        self.name = name\n",
    "        self.age = age\n",
    "        self.address = address\n",
    "    \n",
    "    def eat(self):\n",
    "        print(f'{self.name} is eating')\n",
    "    \n",
    "    def sleep(self):\n",
    "        print(f'{self.name} is sleeping')\n",
    "    \n",
    "    def walk(self):\n",
    "        print(f'{self.name} is walking')\n",
    "        \n",
    "    def info(self):\n",
    "        print(f\"Name: {self.name}\")\n",
    "        print(f\"Age: {self.age}\")\n",
    "        print(f\"Address: {self.address}\")"
   ]
  },
  {
   "cell_type": "code",
   "execution_count": null,
   "id": "2bba94fa-bec2-4f8c-bb27-1699bca1c390",
   "metadata": {},
   "outputs": [],
   "source": [
    "class Student(Person): \n",
    "    def __init__(self, name, age, address, college, faculty, roll_no):\n",
    "        \n",
    "        super().__init__(name ,age, address)        \n",
    "        self.college = college\n",
    "        self.faculty = faculty        \n",
    "        self.roll_no = roll_no\n",
    "        self.subjects = []\n",
    "        \n",
    "    def learn(self):\n",
    "        print(f\"Student is learning: {self.subjects}\")\n",
    "\n",
    "    def add_subject(self, name):\n",
    "        if name not in self.subjects:\n",
    "            self.subjects.append(name)\n",
    "        \n",
    "    def info(self):\n",
    "        super().info()\n",
    "        print(f\"College: {self.college}\")\n",
    "        print(f\"Faculty: {self.faculty}\")\n",
    "        print(f\"Roll no: {self.roll_no}\")\n",
    "        print(f\"Subjects: {self.subjects}\")"
   ]
  },
  {
   "cell_type": "code",
   "execution_count": 29,
   "id": "08723820-f535-4fc6-96eb-be7201f6de56",
   "metadata": {},
   "outputs": [],
   "source": [
    "class MasterStudent(Student):\n",
    "    def __init__(self, name, age, address, college, faculty, roll_no, university):\n",
    "        super().__init__(name, age, address, college, faculty, roll_no)\n",
    "        self.university = university\n",
    "    def info(self):\n",
    "        super().info()\n",
    "        print(f'University: {self.university}')"
   ]
  },
  {
   "cell_type": "code",
   "execution_count": 30,
   "id": "5c13f9b0-9b79-4212-bbd7-09fabefa1709",
   "metadata": {},
   "outputs": [
    {
     "name": "stdout",
     "output_type": "stream",
     "text": [
      "Name: Subin\n",
      "Age: 32\n",
      "Address: KTM\n",
      "College: CCRC\n",
      "Faculty: IT\n",
      "Roll no: 1\n",
      "Subjects: []\n",
      "University: TU\n"
     ]
    }
   ],
   "source": [
    "s1 = MasterStudent(name='Subin', age=32, address='KTM', college='CCRC', faculty='IT', roll_no=1, university='TU')\n",
    "s1.info()"
   ]
  },
  {
   "cell_type": "code",
   "execution_count": null,
   "id": "a187ceff-e5c1-42af-ba61-7225ce533569",
   "metadata": {},
   "outputs": [],
   "source": [
    "# hierarchical inheritance\n",
    "class Person:\n",
    "    pass\n",
    "class Student(Person):\n",
    "    pass\n",
    "class Teacher(Person):\n",
    "    pass\n",
    "class Employee(Person):\n",
    "    pass\n",
    "class Principal(Person):\n",
    "    pass"
   ]
  },
  {
   "cell_type": "code",
   "execution_count": 32,
   "id": "61ad2be9-7485-472d-ab2f-6da091bc194c",
   "metadata": {},
   "outputs": [
    {
     "name": "stdout",
     "output_type": "stream",
     "text": [
      "This is Vehicle\n",
      "Car name is: Bugatti\n",
      "This is Vehicle\n",
      "Truck name is: Volvo\n"
     ]
    }
   ],
   "source": [
    "# hierarchical inheritance\n",
    "class Vehicle:\n",
    "    def info(self):\n",
    "        print('This is Vehicle')\n",
    "class Car(Vehicle):\n",
    "    def car_info(self, name):\n",
    "        print('Car name is:', name)\n",
    "class Truck(Vehicle):\n",
    "    def truck_info(self, name):\n",
    "        print('Truck name is:', name)\n",
    "obj1 = Car()\n",
    "obj1.info()\n",
    "obj1.car_info('Bugatti')\n",
    "\n",
    "obj2=Truck()\n",
    "obj2.info()\n",
    "obj2.truck_info('Volvo')"
   ]
  },
  {
   "cell_type": "code",
   "execution_count": null,
   "id": "763bed5c-40d5-4f9a-8c74-52ce998f7f81",
   "metadata": {},
   "outputs": [
    {
     "name": "stdout",
     "output_type": "stream",
     "text": [
      "Inside vehicle class\n",
      "inside car class\n",
      "Inside sportsCar class\n"
     ]
    }
   ],
   "source": [
    "# hybrid inheritance => sphagetti code\n",
    "class Vehicle:\n",
    "    def vehicle_info(self):\n",
    "        print('Inside vehicle class')\n",
    "class Car(Vehicle):\n",
    "    def car_info(self):\n",
    "        print('inside car class')\n",
    "class Truck(Vehicle):\n",
    "    def truck_info(self):\n",
    "        print('Inside truck class')\n",
    "\n",
    "# Sports car can inherit properties of Vehicle and car\n",
    "class SportsCar(Car, Vehicle):\n",
    "    def sports_car_info(self):\n",
    "        print('Inside sportsCar class')\n",
    "\n",
    "ferrari = SportsCar()\n",
    "ferrari.vehicle_info()\n",
    "ferrari.car_info()\n",
    "ferrari.sports_car_info()\n"
   ]
  },
  {
   "cell_type": "code",
   "execution_count": null,
   "id": "179e5586",
   "metadata": {},
   "outputs": [
    {
     "name": "stdout",
     "output_type": "stream",
     "text": [
      "Area: 12\n",
      "Perimeter: 14\n",
      "3\n",
      "Area: 40\n"
     ]
    }
   ],
   "source": [
    "# Private, public (encapsulation/access_modifier)\n",
    "class Rectangle:\n",
    "    def __init__(self, length, breadth):\n",
    "        # private attribute => cannot be accessed outside of class\n",
    "        self.__length = length # make attributes private using __\n",
    "        self.__breadth = breadth\n",
    "    \n",
    "    def get_length(self): # getter method\n",
    "        return self.__length\n",
    "\n",
    "    def set_length(self, new_length): # setter method\n",
    "        # Validation\n",
    "        if not isinstance(new_length, (int, float)): # isinstance takes value and data-type to check if the value falls into that data-type.\n",
    "            raise ValueError('Length must be a number') \n",
    "        self.__length = new_length\n",
    "\n",
    "    # public method\n",
    "    def area(self):\n",
    "        return self.__length * self.__breadth\n",
    "\n",
    "    def perimeter(self):\n",
    "        return 2 * (self.__length + self.__breadth)\n",
    "\n",
    "r = Rectangle(3, 4)\n",
    "print(\"Area:\", r.area())\n",
    "print(\"Perimeter:\", r.perimeter())\n",
    "\n",
    "print(r.get_length())\n",
    "# r.set_length('are') ## Will raise ValueError\n",
    "r.set_length(10)\n",
    "print(\"Area:\", r.area())\n",
    "# r.__length ## raise AttributeError: 'Rectangle' object has no attribute '__length'; length being private"
   ]
  },
  {
   "cell_type": "code",
   "execution_count": 30,
   "id": "df39634b",
   "metadata": {},
   "outputs": [
    {
     "name": "stdout",
     "output_type": "stream",
     "text": [
      "Deposited: 100\n",
      "Withdrew: 50\n",
      "Balance: 50\n"
     ]
    }
   ],
   "source": [
    "class BankAccount:\n",
    "    def __init__(self):\n",
    "        self.__balance = 0  # private variable\n",
    "\n",
    "    def deposit(self, amount):\n",
    "        if amount > 0:\n",
    "            self.__balance += amount\n",
    "            print(f'Deposited: {amount}')\n",
    "        else:\n",
    "            print('Deposit amount must be positive')\n",
    "\n",
    "    def withdraw(self, amount):\n",
    "        if 0 < amount <= self.__balance:\n",
    "            self.__balance -= amount\n",
    "            print(f'Withdrew: {amount}')\n",
    "        else:\n",
    "            print('Invalid withdrawal amount')\n",
    "\n",
    "    def get_balance(self):\n",
    "        return self.__balance\n",
    "\n",
    "account = BankAccount()\n",
    "account.deposit(100)        # Deposited: 100\n",
    "account.withdraw(50)        # Withdrew: 50\n",
    "print(f'Balance: {account.get_balance()}')  # Accesing balance via public method\n",
    "\n"
   ]
  },
  {
   "cell_type": "code",
   "execution_count": null,
   "id": "ee1e427a",
   "metadata": {},
   "outputs": [],
   "source": [
    "def addition(x, y)\n",
    "    return x + y\n",
    "addition('ram', 'shyam')\n",
    "addition(2 ,4)"
   ]
  },
  {
   "cell_type": "code",
   "execution_count": 45,
   "id": "2df2756d",
   "metadata": {},
   "outputs": [],
   "source": [
    "# file handling\n",
    "f = open('hello.txt', 'w')\n",
    "f.write('Hello World')\n",
    "f.close()"
   ]
  },
  {
   "cell_type": "code",
   "execution_count": 46,
   "id": "ae0066d1",
   "metadata": {},
   "outputs": [
    {
     "name": "stdout",
     "output_type": "stream",
     "text": [
      "Hello World\n"
     ]
    }
   ],
   "source": [
    "f = open('hello.txt', 'r')\n",
    "print(f.read())\n",
    "f.close()"
   ]
  },
  {
   "cell_type": "code",
   "execution_count": 48,
   "id": "eaa47803",
   "metadata": {},
   "outputs": [
    {
     "name": "stdout",
     "output_type": "stream",
     "text": [
      "hi\n"
     ]
    },
    {
     "ename": "ZeroDivisionError",
     "evalue": "division by zero",
     "output_type": "error",
     "traceback": [
      "\u001b[0;31m---------------------------------------------------------------------------\u001b[0m",
      "\u001b[0;31mZeroDivisionError\u001b[0m                         Traceback (most recent call last)",
      "Cell \u001b[0;32mIn[48], line 2\u001b[0m\n\u001b[1;32m      1\u001b[0m \u001b[38;5;28mprint\u001b[39m(\u001b[38;5;124m'\u001b[39m\u001b[38;5;124mhi\u001b[39m\u001b[38;5;124m'\u001b[39m)\n\u001b[0;32m----> 2\u001b[0m \u001b[38;5;241;43m1\u001b[39;49m\u001b[43m \u001b[49m\u001b[38;5;241;43m/\u001b[39;49m\u001b[43m \u001b[49m\u001b[38;5;241;43m0\u001b[39;49m\n\u001b[1;32m      3\u001b[0m \u001b[38;5;28mprint\u001b[39m(\u001b[38;5;124m'\u001b[39m\u001b[38;5;124mhello\u001b[39m\u001b[38;5;124m'\u001b[39m)\n",
      "\u001b[0;31mZeroDivisionError\u001b[0m: division by zero"
     ]
    }
   ],
   "source": [
    "print('hi')\n",
    "1 / 0\n",
    "print('hello')"
   ]
  },
  {
   "cell_type": "code",
   "execution_count": 47,
   "id": "f237698a",
   "metadata": {},
   "outputs": [
    {
     "name": "stdout",
     "output_type": "stream",
     "text": [
      "Hello World\n"
     ]
    },
    {
     "ename": "ZeroDivisionError",
     "evalue": "division by zero",
     "output_type": "error",
     "traceback": [
      "\u001b[0;31m---------------------------------------------------------------------------\u001b[0m",
      "\u001b[0;31mZeroDivisionError\u001b[0m                         Traceback (most recent call last)",
      "Cell \u001b[0;32mIn[47], line 3\u001b[0m\n\u001b[1;32m      1\u001b[0m f \u001b[38;5;241m=\u001b[39m \u001b[38;5;28mopen\u001b[39m(\u001b[38;5;124m'\u001b[39m\u001b[38;5;124mhello.txt\u001b[39m\u001b[38;5;124m'\u001b[39m, \u001b[38;5;124m'\u001b[39m\u001b[38;5;124mr\u001b[39m\u001b[38;5;124m'\u001b[39m)\n\u001b[1;32m      2\u001b[0m \u001b[38;5;28mprint\u001b[39m(f\u001b[38;5;241m.\u001b[39mread())\n\u001b[0;32m----> 3\u001b[0m \u001b[38;5;241;43m1\u001b[39;49m\u001b[43m \u001b[49m\u001b[38;5;241;43m/\u001b[39;49m\u001b[43m \u001b[49m\u001b[38;5;241;43m0\u001b[39;49m\n\u001b[1;32m      4\u001b[0m f\u001b[38;5;241m.\u001b[39mclose()\n",
      "\u001b[0;31mZeroDivisionError\u001b[0m: division by zero"
     ]
    }
   ],
   "source": [
    "f = open('hello.txt', 'r')\n",
    "print(f.read())\n",
    "1 / 0\n",
    "f.close()"
   ]
  },
  {
   "cell_type": "code",
   "execution_count": 49,
   "id": "175e2a19",
   "metadata": {},
   "outputs": [
    {
     "ename": "ZeroDivisionError",
     "evalue": "division by zero",
     "output_type": "error",
     "traceback": [
      "\u001b[0;31m---------------------------------------------------------------------------\u001b[0m",
      "\u001b[0;31mZeroDivisionError\u001b[0m                         Traceback (most recent call last)",
      "Cell \u001b[0;32mIn[49], line 5\u001b[0m\n\u001b[1;32m      3\u001b[0m     \u001b[38;5;28;01mreturn\u001b[39;00m div\n\u001b[1;32m      4\u001b[0m division(\u001b[38;5;241m4\u001b[39m,\u001b[38;5;241m2\u001b[39m)\n\u001b[0;32m----> 5\u001b[0m \u001b[43mdivision\u001b[49m\u001b[43m \u001b[49m\u001b[43m(\u001b[49m\u001b[38;5;241;43m4\u001b[39;49m\u001b[43m,\u001b[49m\u001b[43m \u001b[49m\u001b[38;5;241;43m0\u001b[39;49m\u001b[43m)\u001b[49m\n",
      "Cell \u001b[0;32mIn[49], line 2\u001b[0m, in \u001b[0;36mdivision\u001b[0;34m(a, b)\u001b[0m\n\u001b[1;32m      1\u001b[0m \u001b[38;5;28;01mdef\u001b[39;00m\u001b[38;5;250m \u001b[39m\u001b[38;5;21mdivision\u001b[39m(a, b):\n\u001b[0;32m----> 2\u001b[0m     div \u001b[38;5;241m=\u001b[39m \u001b[43ma\u001b[49m\u001b[43m \u001b[49m\u001b[38;5;241;43m/\u001b[39;49m\u001b[43m \u001b[49m\u001b[43mb\u001b[49m\n\u001b[1;32m      3\u001b[0m     \u001b[38;5;28;01mreturn\u001b[39;00m div\n",
      "\u001b[0;31mZeroDivisionError\u001b[0m: division by zero"
     ]
    }
   ],
   "source": [
    "def division(a, b):\n",
    "    div = a / b\n",
    "    return div\n",
    "division(4,2)\n",
    "division (4, 0)"
   ]
  },
  {
   "cell_type": "code",
   "execution_count": null,
   "id": "ca3b07f1",
   "metadata": {},
   "outputs": [
    {
     "name": "stdout",
     "output_type": "stream",
     "text": [
      "Cannot divide by zero\n"
     ]
    }
   ],
   "source": [
    "def division(a, b):\n",
    "    try:\n",
    "        div = a / b\n",
    "        return div\n",
    "    except ZeroDivisionError: # handling zero division error case\n",
    "        print('Cannot divide by zero')\n",
    "division(4,0)"
   ]
  },
  {
   "cell_type": "code",
   "execution_count": 44,
   "id": "80410382",
   "metadata": {},
   "outputs": [
    {
     "data": {
      "text/plain": [
       "2.0"
      ]
     },
     "execution_count": 44,
     "metadata": {},
     "output_type": "execute_result"
    }
   ],
   "source": [
    "division(4,2)"
   ]
  },
  {
   "cell_type": "code",
   "execution_count": null,
   "id": "d40dd521",
   "metadata": {},
   "outputs": [
    {
     "name": "stdout",
     "output_type": "stream",
     "text": [
      "Invalid datatype.\n"
     ]
    }
   ],
   "source": [
    "def division(a, b):\n",
    "    try:\n",
    "        div = a / b\n",
    "        return div\n",
    "    except ZeroDivisionError: # handling zero division error case\n",
    "        print('Cannot divide by zero')\n",
    "    except TypeError: # handling type error case\n",
    "        print('Invalid datatype.')\n",
    "division(4,'2')"
   ]
  },
  {
   "cell_type": "code",
   "execution_count": 55,
   "id": "9888b2e7",
   "metadata": {},
   "outputs": [
    {
     "name": "stdout",
     "output_type": "stream",
     "text": [
      "No exception raised. Program running ...\n"
     ]
    },
    {
     "data": {
      "text/plain": [
       "2.0"
      ]
     },
     "execution_count": 55,
     "metadata": {},
     "output_type": "execute_result"
    }
   ],
   "source": [
    "def division(a, b):\n",
    "    try:\n",
    "        div = a / b\n",
    "    except ZeroDivisionError: # handling zero division error case\n",
    "        print('Cannot divide by zero')\n",
    "    except TypeError: # handling type error case\n",
    "        print('Invalid datatype.')\n",
    "    except Exception as e:\n",
    "        print(e)\n",
    "    else:\n",
    "        print('No exception raised. Program running ...')\n",
    "        return div\n",
    "division(4, 2)"
   ]
  },
  {
   "cell_type": "code",
   "execution_count": null,
   "id": "5b969de7",
   "metadata": {},
   "outputs": [
    {
     "name": "stdout",
     "output_type": "stream",
     "text": [
      "unsupported operand type(s) for /: 'int' and 'str'\n"
     ]
    }
   ],
   "source": [
    "def division(a, b):\n",
    "    try:\n",
    "        div = a / b\n",
    "        return div\n",
    "    except Exception as e: # un-recommendable as users might not understand default error messages\n",
    "        print(e)\n",
    "division(4,'2') # gets a default error message"
   ]
  },
  {
   "cell_type": "code",
   "execution_count": 56,
   "id": "c6b90e1a",
   "metadata": {},
   "outputs": [
    {
     "name": "stdout",
     "output_type": "stream",
     "text": [
      "No exception raised. Program running ...\n",
      "I will run mo matter what\n"
     ]
    },
    {
     "data": {
      "text/plain": [
       "2.0"
      ]
     },
     "execution_count": 56,
     "metadata": {},
     "output_type": "execute_result"
    }
   ],
   "source": [
    "def division(a, b):\n",
    "    try:\n",
    "        div = a / b\n",
    "    except ZeroDivisionError: # handling zero division error case\n",
    "        print('Cannot divide by zero')\n",
    "    except TypeError: # handling type error case\n",
    "        print('Invalid datatype.')\n",
    "    except Exception as e:\n",
    "        print(e)\n",
    "    else:\n",
    "        print('No exception raised. Program running ...')\n",
    "        return div\n",
    "    finally:\n",
    "        print('I will run mo matter what')\n",
    "division(4, 2)"
   ]
  },
  {
   "cell_type": "code",
   "execution_count": 57,
   "id": "5ce45567",
   "metadata": {},
   "outputs": [
    {
     "name": "stdout",
     "output_type": "stream",
     "text": [
      "Invalid datatype.\n",
      "I will run mo matter what\n"
     ]
    }
   ],
   "source": [
    "division(4, 'a')"
   ]
  },
  {
   "cell_type": "code",
   "execution_count": 62,
   "id": "d499e65d",
   "metadata": {},
   "outputs": [
    {
     "name": "stdout",
     "output_type": "stream",
     "text": [
      "Hello World\n",
      "division by zero\n"
     ]
    }
   ],
   "source": [
    "file = open('hello.txt', 'r')\n",
    "print(file.read())\n",
    "try:\n",
    "    1 / 0\n",
    "except Exception as e:\n",
    "    print(e)\n",
    "file.close()"
   ]
  },
  {
   "cell_type": "code",
   "execution_count": 64,
   "id": "6b5b2aa0",
   "metadata": {},
   "outputs": [
    {
     "data": {
      "text/plain": [
       "True"
      ]
     },
     "execution_count": 64,
     "metadata": {},
     "output_type": "execute_result"
    }
   ],
   "source": [
    "file.closed"
   ]
  },
  {
   "cell_type": "code",
   "execution_count": 65,
   "id": "179f2435",
   "metadata": {},
   "outputs": [
    {
     "name": "stdout",
     "output_type": "stream",
     "text": [
      "Hello World\n"
     ]
    }
   ],
   "source": [
    "with open('hello.txt', 'r') as f:\n",
    "    print(f.read())"
   ]
  },
  {
   "cell_type": "code",
   "execution_count": null,
   "id": "ef6ee9d8",
   "metadata": {},
   "outputs": [
    {
     "data": {
      "text/plain": [
       "True"
      ]
     },
     "execution_count": 66,
     "metadata": {},
     "output_type": "execute_result"
    }
   ],
   "source": [
    "f.closed # eith iterator automatically closes the program after completing the given task of wither reading or wriging"
   ]
  },
  {
   "cell_type": "code",
   "execution_count": 68,
   "id": "b520729c",
   "metadata": {},
   "outputs": [
    {
     "name": "stdout",
     "output_type": "stream",
     "text": [
      "False\n",
      "Hello World\n",
      "False\n",
      "True\n"
     ]
    }
   ],
   "source": [
    "with open('hello.txt', 'r') as f:\n",
    "    print(f.closed)\n",
    "    print(f.read())\n",
    "    print(f.closed)\n",
    "print(f.closed) # only closes outside the program"
   ]
  },
  {
   "cell_type": "code",
   "execution_count": 69,
   "id": "ef6876a5",
   "metadata": {},
   "outputs": [
    {
     "name": "stdout",
     "output_type": "stream",
     "text": [
      "False\n",
      "Hello World\n"
     ]
    },
    {
     "ename": "ZeroDivisionError",
     "evalue": "division by zero",
     "output_type": "error",
     "traceback": [
      "\u001b[0;31m---------------------------------------------------------------------------\u001b[0m",
      "\u001b[0;31mZeroDivisionError\u001b[0m                         Traceback (most recent call last)",
      "Cell \u001b[0;32mIn[69], line 4\u001b[0m\n\u001b[1;32m      2\u001b[0m \u001b[38;5;28mprint\u001b[39m(f\u001b[38;5;241m.\u001b[39mclosed)\n\u001b[1;32m      3\u001b[0m \u001b[38;5;28mprint\u001b[39m(f\u001b[38;5;241m.\u001b[39mread())\n\u001b[0;32m----> 4\u001b[0m \u001b[38;5;241;43m1\u001b[39;49m\u001b[43m \u001b[49m\u001b[38;5;241;43m/\u001b[39;49m\u001b[43m \u001b[49m\u001b[38;5;241;43m0\u001b[39;49m\n",
      "\u001b[0;31mZeroDivisionError\u001b[0m: division by zero"
     ]
    }
   ],
   "source": [
    "with open('hello.txt', 'r') as f:\n",
    "    print(f.closed)\n",
    "    print(f.read())\n",
    "    1 / 0"
   ]
  },
  {
   "cell_type": "code",
   "execution_count": 71,
   "id": "87880e01",
   "metadata": {},
   "outputs": [
    {
     "data": {
      "text/plain": [
       "True"
      ]
     },
     "execution_count": 71,
     "metadata": {},
     "output_type": "execute_result"
    }
   ],
   "source": [
    "f.closed # still closes the program even when error raised"
   ]
  },
  {
   "cell_type": "code",
   "execution_count": 73,
   "id": "fa420ea1",
   "metadata": {},
   "outputs": [
    {
     "name": "stdout",
     "output_type": "stream",
     "text": [
      "Hello World\n",
      "sdgadfg\n",
      "adsfgdfh\n",
      "fghjgfhjkmfh\n",
      "\n"
     ]
    }
   ],
   "source": [
    "with open('hello.txt', 'r') as f:\n",
    "    print(f.read())"
   ]
  },
  {
   "cell_type": "code",
   "execution_count": null,
   "id": "a1a92fd2",
   "metadata": {},
   "outputs": [
    {
     "name": "stdout",
     "output_type": "stream",
     "text": [
      "Hel\n",
      "3\n",
      "0\n",
      "He\n"
     ]
    }
   ],
   "source": [
    "with open('hello.txt', 'r') as f:\n",
    "    print(f.read(3)) # reads first 3 characters\n",
    "    print(f.tell()) # prints what character you are on now\n",
    "    print(f.seek(0)) # goes to 0th index\n",
    "    print(f.read(2)) # now 0th index is the starting index and prints 2 characters"
   ]
  },
  {
   "cell_type": "code",
   "execution_count": 80,
   "id": "b3836790",
   "metadata": {},
   "outputs": [
    {
     "name": "stdout",
     "output_type": "stream",
     "text": [
      "sdgadfg\n",
      "adsfg\n"
     ]
    }
   ],
   "source": [
    "with open('hello.txt', 'r') as f:\n",
    "    f.seek(12)\n",
    "    print(f.read(13))"
   ]
  },
  {
   "cell_type": "code",
   "execution_count": 83,
   "id": "cbd0cc52",
   "metadata": {},
   "outputs": [
    {
     "name": "stdout",
     "output_type": "stream",
     "text": [
      "Hello World\n",
      "\n",
      "sdgadfg\n",
      "\n",
      "adsfgdfh\n",
      "\n"
     ]
    }
   ],
   "source": [
    "with open('hello.txt', 'r') as f:\n",
    "    print(f.readline()) # starts to read line by line\n",
    "    print(f.readline()) # prints second line\n",
    "    print(f.readline())"
   ]
  },
  {
   "cell_type": "code",
   "execution_count": 85,
   "id": "7932b8dc",
   "metadata": {},
   "outputs": [
    {
     "name": "stdout",
     "output_type": "stream",
     "text": [
      "Hello World\n",
      "\n",
      "sdgadfg\n",
      "\n",
      "adsfgdfh\n",
      "\n",
      "fghjgfhjkmfh\n",
      "\n"
     ]
    }
   ],
   "source": [
    "with open('hello.txt', 'r') as f:\n",
    "    for i in f: # this loop prints line by line \n",
    "        print(i)"
   ]
  },
  {
   "cell_type": "code",
   "execution_count": null,
   "id": "fb8b2f3c",
   "metadata": {},
   "outputs": [
    {
     "name": "stdout",
     "output_type": "stream",
     "text": [
      "Hello World\n",
      "sdgadfg\n",
      "adsfgdfh\n",
      "fghjgfhjkmfh\n",
      "\n"
     ]
    }
   ],
   "source": [
    "with open('hello.txt', 'rt') as f: # 'r' & 'rt' are same, reading in text mode\n",
    "    print(f.read()) # default => read in text mode"
   ]
  },
  {
   "cell_type": "code",
   "execution_count": null,
   "id": "f83990ea",
   "metadata": {},
   "outputs": [
    {
     "data": {
      "text/plain": [
       "1"
      ]
     },
     "execution_count": 90,
     "metadata": {},
     "output_type": "execute_result"
    }
   ],
   "source": [
    "# character size\n",
    "('aa').__sizeof__() - 'a'.__sizeof__() "
   ]
  },
  {
   "cell_type": "code",
   "execution_count": 91,
   "id": "de7a8718",
   "metadata": {},
   "outputs": [
    {
     "data": {
      "text/plain": [
       "4"
      ]
     },
     "execution_count": 91,
     "metadata": {},
     "output_type": "execute_result"
    }
   ],
   "source": [
    "'😀😀'.__sizeof__() - '😀'.__sizeof__()"
   ]
  },
  {
   "cell_type": "code",
   "execution_count": null,
   "id": "abc48d47",
   "metadata": {},
   "outputs": [],
   "source": []
  }
 ],
 "metadata": {
  "kernelspec": {
   "display_name": ".venv",
   "language": "python",
   "name": "python3"
  },
  "language_info": {
   "codemirror_mode": {
    "name": "ipython",
    "version": 3
   },
   "file_extension": ".py",
   "mimetype": "text/x-python",
   "name": "python",
   "nbconvert_exporter": "python",
   "pygments_lexer": "ipython3",
   "version": "3.12.9"
  }
 },
 "nbformat": 4,
 "nbformat_minor": 5
}
