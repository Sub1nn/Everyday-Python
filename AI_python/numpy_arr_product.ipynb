{
 "cells": [
  {
   "cell_type": "code",
   "execution_count": 2,
   "id": "0512516a",
   "metadata": {},
   "outputs": [
    {
     "name": "stdout",
     "output_type": "stream",
     "text": [
      "[1 2 3 4]\n",
      "a.shape = (4,)\n",
      "[[1 2 3 4]]\n",
      "b.shape = (1, 4)\n",
      "[[1]\n",
      " [2]\n",
      " [3]\n",
      " [4]]\n",
      "c.shape = (4, 1)\n"
     ]
    }
   ],
   "source": [
    "import numpy as np\n",
    "\n",
    "a = np.array([1, 2, 3, 4])        # Shape: (4,) → 1D vector\n",
    "b = a.reshape(1, 4)               # Shape: (1, 4) → Row vector (2D)\n",
    "c = a.reshape(4, 1)               # Shape: (4, 1) → Column vector (2D)\n",
    "\n",
    "print(a)\n",
    "print(\"a.shape =\", a.shape)      # (4,)\n",
    "print(b)\n",
    "print(\"b.shape =\", b.shape)      # (1, 4)\n",
    "print(c)\n",
    "print(\"c.shape =\", c.shape)      # (4, 1)\n"
   ]
  },
  {
   "cell_type": "code",
   "execution_count": null,
   "id": "3e05a126",
   "metadata": {},
   "outputs": [
    {
     "data": {
      "text/plain": [
       "np.int64(30)"
      ]
     },
     "execution_count": 2,
     "metadata": {},
     "output_type": "execute_result"
    }
   ],
   "source": [
    "# Dot product: 1D vector ⋅ 1D vector\n",
    "np.dot(a, a)        # OR: a @ a\n",
    "# 1*1 + 2*2 + 3*3 + 4*4 = 30\n",
    "# Result: scalar (number)\n"
   ]
  },
  {
   "cell_type": "code",
   "execution_count": null,
   "id": "faceea24",
   "metadata": {},
   "outputs": [
    {
     "data": {
      "text/plain": [
       "'\\nShape: (1, 4) ⋅ (4, 1) → (1, 1)\\n→ [[30]] (a scalar inside a matrix)\\n\\nMatrix multiplication: 1*4 * 4*1 = 1×1\\n'"
      ]
     },
     "execution_count": 3,
     "metadata": {},
     "output_type": "execute_result"
    }
   ],
   "source": [
    "# Row vector (1, 4) ⋅ Column vector (4, 1)\n",
    "np.dot(b, c)\n",
    "'''\n",
    "Shape: (1, 4) ⋅ (4, 1) → (1, 1)\n",
    "→ [[30]] (a scalar inside a matrix)\n",
    "\n",
    "Matrix multiplication: 1*4 * 4*1 = 1*1\n",
    "'''"
   ]
  },
  {
   "cell_type": "code",
   "execution_count": null,
   "id": "8b666b87",
   "metadata": {},
   "outputs": [
    {
     "data": {
      "text/plain": [
       "array([[ 1,  2,  3,  4],\n",
       "       [ 2,  4,  6,  8],\n",
       "       [ 3,  6,  9, 12],\n",
       "       [ 4,  8, 12, 16]])"
      ]
     },
     "execution_count": 4,
     "metadata": {},
     "output_type": "execute_result"
    }
   ],
   "source": [
    "# Column vector (4, 1) ⋅ Row vector (1, 4)\n",
    "np.dot(c, b)\n",
    "'''\n",
    "Shape: (4, 1) ⋅ (1, 4) → (4, 4)\n",
    "\n",
    "This creates a matrix: This is called an outer product.\n",
    "Matrix multiplication: 4*1 * 1*4 = 4*4\n",
    "'''"
   ]
  },
  {
   "cell_type": "code",
   "execution_count": null,
   "id": "9f2f6237",
   "metadata": {},
   "outputs": [
    {
     "ename": "NameError",
     "evalue": "name 'np' is not defined",
     "output_type": "error",
     "traceback": [
      "\u001b[0;31m---------------------------------------------------------------------------\u001b[0m",
      "\u001b[0;31mNameError\u001b[0m                                 Traceback (most recent call last)",
      "Cell \u001b[0;32mIn[1], line 1\u001b[0m\n\u001b[0;32m----> 1\u001b[0m np\u001b[38;5;241m.\u001b[39mdot(b, b)\n\u001b[1;32m      2\u001b[0m \u001b[38;5;66;03m# Error: shapes (1,4) and (1,4) not aligned\u001b[39;00m\n\u001b[1;32m      3\u001b[0m \u001b[38;5;124;03m'''\u001b[39;00m\n\u001b[1;32m      4\u001b[0m \u001b[38;5;124;03mYou can't multiply (1×4) × (1×4).\u001b[39;00m\n\u001b[1;32m      5\u001b[0m \u001b[38;5;124;03mYou’d have to transpose one of them.\u001b[39;00m\n\u001b[1;32m      6\u001b[0m \u001b[38;5;124;03m'''\u001b[39;00m\n",
      "\u001b[0;31mNameError\u001b[0m: name 'np' is not defined"
     ]
    }
   ],
   "source": [
    "np.dot(b, b)\n",
    "# Error: shapes (1,4) and (1,4) not aligned\n",
    "'''\n",
    "You can't multiply (1*4) * (1*4).\n",
    "You’d have to transpose one of them.\n",
    "'''\n"
   ]
  },
  {
   "cell_type": "markdown",
   "id": "2c362ce5",
   "metadata": {},
   "source": [
    "✅ Shape Summary Table\n",
    "Operation\tShapes\t        Result\t        Meaning\n",
    "a @ a\t(4,) × (4,)\t        Scalar\t        Standard dot product\n",
    "b @ c\t(1, 4) × (4, 1)\t    (1, 1)\t        Dot product as 2D\n",
    "c @ b\t(4, 1) × (1, 4)\t    (4, 4)\t        Outer product\n",
    "b @ b\t(1, 4) × (1, 4)\t    ❌ Error\t        Misaligned shapes\n",
    "b @ b.T\t(1, 4) × (4, 1)\t    (1, 1)\t        ✅ Transposed works"
   ]
  }
 ],
 "metadata": {
  "kernelspec": {
   "display_name": "base",
   "language": "python",
   "name": "python3"
  },
  "language_info": {
   "codemirror_mode": {
    "name": "ipython",
    "version": 3
   },
   "file_extension": ".py",
   "mimetype": "text/x-python",
   "name": "python",
   "nbconvert_exporter": "python",
   "pygments_lexer": "ipython3",
   "version": "3.13.5"
  }
 },
 "nbformat": 4,
 "nbformat_minor": 5
}
