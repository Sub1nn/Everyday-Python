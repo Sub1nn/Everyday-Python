{
 "cells": [
  {
   "cell_type": "code",
   "execution_count": 1,
   "id": "e812b35e",
   "metadata": {},
   "outputs": [
    {
     "name": "stdout",
     "output_type": "stream",
     "text": [
      "Name: Alice, Age: 30, City: New York, Education: Bachelor's in CS\n",
      "Name: Bob, Age: 25, City: Los Angeles, Education: Master's in Math\n",
      "Name: Charlie, Age: 28, City: Chicago, Education: PhD in Physics\n",
      "Total number of Person instances created: 3\n"
     ]
    }
   ],
   "source": [
    "class Person():\n",
    "    count = 0\n",
    "    def __init__(self, name, age, city, education):\n",
    "        self.name = name\n",
    "        self.age = age\n",
    "        self.city = city\n",
    "        self.education = education\n",
    "        Person.count += 1\n",
    "    \n",
    "    def person_details(self):\n",
    "        return f\"Name: {self.name}, Age: {self.age}, City: {self.city}, Education: {self.education}\"\n",
    "    \n",
    "\n",
    "Alice = Person(\"Alice\", 30, \"New York\", \"Bachelor's in CS\")\n",
    "Bob = Person(\"Bob\", 25, \"Los Angeles\", \"Master's in Math\")\n",
    "Charlie = Person(\"Charlie\", 28, \"Chicago\", \"PhD in Physics\")\n",
    "\n",
    "print(Alice.person_details())  # Output: Name: Alice, Age: 30, City: New York, Education: Bachelor's in CS\n",
    "print(Bob.person_details())    # Output: Name: Bob, Age: 25, City: Los Angeles, Education: Master's in Math\n",
    "print(Charlie.person_details())  # Output: Name: Charlie, Age: 28, City: Chicago, Education: PhD in Physics\n",
    "print(f\"Total number of Person instances created: {Person.count}\")  # Output: Total number of Person instances created: 3\n",
    "# This code defines a Person class with attributes for name, age, city, and education.\n",
    "# It also includes a method to return the person's details and a class variable to"
   ]
  },
  {
   "cell_type": "code",
   "execution_count": 9,
   "id": "2963ab50",
   "metadata": {},
   "outputs": [
    {
     "name": "stdout",
     "output_type": "stream",
     "text": [
      "1\n",
      "2\n"
     ]
    }
   ],
   "source": [
    "class MyClass():\n",
    "    def __init__(self):\n",
    "        self.my_property = 1\n",
    "    def increase(self):\n",
    "        self.my_property += 1\n",
    "    def decrease(self):\n",
    "        self.my_property -= 1\n",
    "\n",
    "my_object = MyClass()\n",
    "print(my_object.my_property)\n",
    "my_object.increase()\n",
    "print(my_object.my_property)"
   ]
  }
 ],
 "metadata": {
  "kernelspec": {
   "display_name": ".venv",
   "language": "python",
   "name": "python3"
  },
  "language_info": {
   "codemirror_mode": {
    "name": "ipython",
    "version": 3
   },
   "file_extension": ".py",
   "mimetype": "text/x-python",
   "name": "python",
   "nbconvert_exporter": "python",
   "pygments_lexer": "ipython3",
   "version": "3.12.9"
  }
 },
 "nbformat": 4,
 "nbformat_minor": 5
}
