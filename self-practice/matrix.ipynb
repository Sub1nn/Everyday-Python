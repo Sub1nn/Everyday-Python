{
 "cells": [
  {
   "cell_type": "code",
   "execution_count": 12,
   "metadata": {},
   "outputs": [
    {
     "name": "stdout",
     "output_type": "stream",
     "text": [
      "6\n"
     ]
    }
   ],
   "source": [
    "def get_elem(matrix):\n",
    "    try:\n",
    "        return matrix[1][2]\n",
    "    except IndexError:\n",
    "        return \"Error: Invalid index\"\n",
    "    \n",
    "print(get_elem([[1, 2, 3], [4, 5, 6], [7, 8, 9]]))"
   ]
  },
  {
   "cell_type": "code",
   "execution_count": 15,
   "metadata": {},
   "outputs": [
    {
     "name": "stdout",
     "output_type": "stream",
     "text": [
      "123456789\n"
     ]
    }
   ],
   "source": [
    "def get_elem(matrix):\n",
    "    for row in matrix:\n",
    "        for elem in row:\n",
    "            print(elem, end=\" \")\n",
    "    print()\n",
    "    \n",
    "get_elem([[1, 2, 3], [4, 5, 6], [7, 8, 9]])"
   ]
  },
  {
   "cell_type": "code",
   "execution_count": 17,
   "metadata": {},
   "outputs": [
    {
     "name": "stdout",
     "output_type": "stream",
     "text": [
      "[5, 7, 9, 8, 2, 4, 1, 7, 3]\n"
     ]
    }
   ],
   "source": [
    "def get_elem(matrix):\n",
    "    new_elems = []\n",
    "    for row in matrix:\n",
    "        for elem in row:\n",
    "            new_elems.append(elem)\n",
    "    return(new_elems)\n",
    "    \n",
    "print(get_elem([[5, 7, 9], [8, 2, 4], [1, 7, 3]]))"
   ]
  },
  {
   "cell_type": "code",
   "execution_count": 21,
   "metadata": {},
   "outputs": [
    {
     "name": "stdout",
     "output_type": "stream",
     "text": [
      "[1, 2, 3, 4, 5, 6, 7, 8, 9]\n"
     ]
    }
   ],
   "source": [
    "def get_elem(matrix):\n",
    "    #return ([elem for row in matrix for elem in row])\n",
    "    return [matrix[i][j] for i in range(len(matrix)) for j in range(len(matrix[i]))]\n",
    "    \n",
    "print(get_elem([[1, 2, 3], [4, 5, 6], [7, 8, 9]]))"
   ]
  },
  {
   "cell_type": "code",
   "execution_count": 1,
   "metadata": {},
   "outputs": [
    {
     "name": "stdout",
     "output_type": "stream",
     "text": [
      "[[1, 4, 7], [2, 5, 8], [3, 6, 9], [4, 8, 0]]\n"
     ]
    }
   ],
   "source": [
    "def matrix_transpose(m):\n",
    "    transposed = []\n",
    "    for i in range(0, len(m[0])):\n",
    "        row = []\n",
    "        for j in range(0, len(m)):\n",
    "            row.append(m[j][i])\n",
    "        transposed.append(row)\n",
    "    return transposed\n",
    "print(matrix_transpose([[5, 7, 9], [8, 2, 4], [1, 7, 3]]))"
   ]
  },
  {
   "cell_type": "code",
   "execution_count": null,
   "metadata": {},
   "outputs": [],
   "source": [
    "\n",
    "def main():\n",
    "    num_rows = int(input(\"Enter number of rows: \"))\n",
    "    num_cols = int(input(\"Enter number of columns: \"))\n",
    "\n",
    "    matrix = []\n",
    "    for i in range(0, num_rows):\n",
    "        while True:\n",
    "            row = input(f\"Enter row {i+1}: \")\n",
    "            row_elements = row.split()\n",
    "            if len(row_elements) != num_cols:\n",
    "                print(\"Invalid input. please provide valid number of elements in the row.\")\n",
    "            else:\n",
    "                matrix.append(row_elements)\n",
    "                break\n",
    "            print(row)\n",
    "    print(matrix)\n",
    "    print(\"\\nMatrix:\")\n",
    "    for row in matrix:\n",
    "        print(f\"|{\" \".join(row)}|\")\n",
    "\n",
    "     # Transpose matrix\n",
    "    print(\"\\nTransposed Matrix:\")\n",
    "    #transpose = [[matrix[rows][i] for rows in range(num_rows)] for i in range(num_cols)]\n",
    "    transpose=[]\n",
    "    for i in range(num_cols):\n",
    "        row = []\n",
    "        for j in range(num_rows):\n",
    "            row.append(matrix[j][i])\n",
    "        transpose.append(row)\n",
    "    print(transpose)\n",
    "    for row in transpose:\n",
    "        print (f\"|{\" \".join(row)}|\")\n",
    "  \n",
    "main()"
   ]
  }
 ],
 "metadata": {
  "kernelspec": {
   "display_name": ".venv",
   "language": "python",
   "name": "python3"
  },
  "language_info": {
   "codemirror_mode": {
    "name": "ipython",
    "version": 3
   },
   "file_extension": ".py",
   "mimetype": "text/x-python",
   "name": "python",
   "nbconvert_exporter": "python",
   "pygments_lexer": "ipython3",
   "version": "3.12.9"
  }
 },
 "nbformat": 4,
 "nbformat_minor": 2
}
