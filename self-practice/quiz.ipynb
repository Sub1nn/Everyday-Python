{
 "cells": [
  {
   "cell_type": "code",
   "execution_count": 2,
   "metadata": {},
   "outputs": [
    {
     "name": "stdout",
     "output_type": "stream",
     "text": [
      "(0, 'P')(1, 'y')(2, 't')(3, 'h')(4, 'o')(5, 'n')"
     ]
    }
   ],
   "source": [
    "x = ['P', 'y', 't', 'h', 'o', 'n']\n",
    "for i in enumerate(x):\n",
    "    print(i, end=\"\")"
   ]
  },
  {
   "cell_type": "code",
   "execution_count": 4,
   "metadata": {},
   "outputs": [
    {
     "name": "stdout",
     "output_type": "stream",
     "text": [
      "9\n"
     ]
    }
   ],
   "source": [
    "def add (a,b):\n",
    "    return a + b\n",
    "\n",
    "print(add(5,4))"
   ]
  },
  {
   "cell_type": "code",
   "execution_count": 4,
   "metadata": {},
   "outputs": [
    {
     "name": "stdout",
     "output_type": "stream",
     "text": [
      "86\n",
      "-39\n"
     ]
    }
   ],
   "source": [
    "x = -3\n",
    "result = 2 * (x ** 3) + 3 * (x ** 2) - 36 * x + 5\n",
    "print(result)\n",
    "\n",
    "x = 2\n",
    "result = 2 * (x ** 3) + 3 * (x ** 2) - 36 * x + 5\n",
    "print(result)"
   ]
  },
  {
   "cell_type": "code",
   "execution_count": 29,
   "metadata": {},
   "outputs": [
    {
     "name": "stdout",
     "output_type": "stream",
     "text": [
      "9\n"
     ]
    }
   ],
   "source": [
    "def roman2int (roman):\n",
    "    roman_int = {'M': 1000, 'CM': 900, 'D': 500, 'CD': 400,\n",
    "        'C': 100, 'XC': 90, 'L': 50, 'XL': 40,\n",
    "        'X': 10, 'IX': 9, 'V': 5, 'IV': 4, 'I': 1}\n",
    "    total = 0\n",
    "    i = 0   \n",
    "    while i < len(roman):\n",
    "        if roman[i:i+2] in roman_int:\n",
    "            total += roman_int[roman[i:i+2]]\n",
    "            i += 2         \n",
    "        else:\n",
    "            total += roman_int[roman[i]]   \n",
    "            i += 1        \n",
    "    return total\n",
    "\n",
    "print(roman2int(\"IX\"))\n",
    "\n",
    "    "
   ]
  },
  {
   "cell_type": "markdown",
   "metadata": {},
   "source": [
    "Why while loop and why for loop does not work here: \n",
    "If you use a for loop and manually increment i inside the loop (e.g., i += 2), the for loop will still increment i by 1 at the end of each iteration, regardless of what you do inside the loop. This is because the for loop in Python automatically updates the loop variable (i) based on the range() sequence, and it does not respect any changes you make to i inside the loop.\n",
    "\n",
    "This is why a while loop is better suited for this problem, as it allows you to manually control the increment of i."
   ]
  },
  {
   "cell_type": "code",
   "execution_count": null,
   "metadata": {},
   "outputs": [
    {
     "name": "stdout",
     "output_type": "stream",
     "text": [
      "[(1000, 'M'), (900, 'CM'), (500, 'D'), (400, 'CD'), (100, 'C'), (90, 'XC'), (50, 'L'), (40, 'XL'), (10, 'X'), (9, 'IX'), (5, 'V'), (4, 'IV'), (1, 'I')]\n",
      "LVII\n",
      "1994\n"
     ]
    }
   ],
   "source": [
    "roman_numbers = [\n",
    "    ('M', 1000),\n",
    "    ('CM', 900),\n",
    "    ('D', 500),\n",
    "    ('CD', 400),\n",
    "    ('C', 100),\n",
    "    ('XC', 90),\n",
    "    ('L', 50),\n",
    "    ('XL', 40),\n",
    "    ('X', 10),\n",
    "    ('IX', 9),\n",
    "    ('V', 5),\n",
    "    ('IV', 4),\n",
    "    ('I', 1),\n",
    "]\n",
    "\n",
    "decimal_to_roman = [(v , k) for k, v in roman_numbers]\n",
    "print(decimal_to_roman)\n",
    "\n",
    "def num_to_roman (num):\n",
    "    result = ''\n",
    "    for key, value in decimal_to_roman:\n",
    "        while num >= key:\n",
    "            num -= key\n",
    "            result += value\n",
    "    return result\n",
    "print(num_to_roman(57))\n",
    "\n",
    "def roman_to_num(rom):\n",
    "    total = 0\n",
    "    for key, value in roman_numbers:\n",
    "        #while rom[:len(key)] == key:\n",
    "        while rom.startswith(key):\n",
    "            rom = rom[len(key):]\n",
    "            total += value   \n",
    "    return total\n",
    "\n",
    "print(roman_to_num(\"MCMXCIV\"))\n",
    "\n",
    "\n"
   ]
  },
  {
   "cell_type": "code",
   "execution_count": 63,
   "metadata": {},
   "outputs": [
    {
     "name": "stdout",
     "output_type": "stream",
     "text": [
      "50\n"
     ]
    }
   ],
   "source": [
    "# difference between ip addresses\n",
    "\n",
    "def ip_diff(start, end):\n",
    "    start = sum([int(e) * 256 ** (3-i) for i , e in enumerate(start.split('.'))])\n",
    "    end = sum([int(e) * 256 ** (3-i) for i, e in enumerate(end.split('.'))])\n",
    "    return end - start\n",
    "    \n",
    "\n",
    "print(ip_diff(\"10.0.0.0\", \"10.0.0.50\"))"
   ]
  },
  {
   "cell_type": "markdown",
   "metadata": {},
   "source": [
    "The enumerate function in Python deals with both the index and the element at that index. It returns a tuple containing:\n",
    "\n",
    "The index (position) of the element.\n",
    "\n",
    "The element itself.\n",
    "\n",
    "start.split('.'):\n",
    "\n",
    "Splits the IPv4 address into a list of strings. For example:\n",
    "\n",
    "\"10.0.0.0\" → ['10', '0', '0', '0']\n",
    "\n",
    "enumerate(start.split('.')):\n",
    "\n",
    "Produces tuples of (index, element). For example:\n",
    "\n",
    "(0, '10'), (1, '0'), (2, '0'), (3, '0')\n",
    "\n",
    "List Comprehension:\n",
    "\n",
    "For each tuple (i, e):\n",
    "\n",
    "int(e) converts the element e (a string) to an integer.\n",
    "\n",
    "256 ** (3 - i) calculates the positional weight of the octet.\n",
    "\n",
    "The result is multiplied: int(e) * 256 ** (3 - i)."
   ]
  },
  {
   "cell_type": "code",
   "execution_count": 72,
   "metadata": {},
   "outputs": [
    {
     "name": "stdout",
     "output_type": "stream",
     "text": [
      "50\n"
     ]
    }
   ],
   "source": [
    "def ip_diff(start, end):\n",
    "    s = start.split('.')\n",
    "    e = end.split('.')\n",
    "    return sum((int(e[i]) - int(s[i]))* 256 ** (3-i) for i in range(4))\n",
    "\n",
    "print(ip_diff(\"10.0.0.0\", \"10.0.0.50\"))"
   ]
  },
  {
   "cell_type": "code",
   "execution_count": null,
   "metadata": {},
   "outputs": [
    {
     "name": "stdout",
     "output_type": "stream",
     "text": [
      "-47\n"
     ]
    }
   ],
   "source": [
    "# Write a function that accepts a square matrix and geturns the determinant of the matrix\n",
    "def get_submatrix(matrix, col_to_remove):\n",
    "    submatrix = []\n",
    "    for i in range(1, len(matrix)):\n",
    "        new_row = []\n",
    "        for j in range(len(matrix[i])):\n",
    "            if j != col_to_remove:\n",
    "                new_row.append(matrix[i][j])\n",
    "        submatrix.append(new_row)\n",
    "    return submatrix\n",
    "\n",
    "def determinant(matrix):\n",
    "    if len(matrix) == 1:\n",
    "        return matrix[0][0]\n",
    "    if len(matrix) == 2:\n",
    "        return (matrix[0][0] * matrix[1][1]) - (matrix[0][1] * matrix[1][0])\n",
    "    total = 0\n",
    "    for col in range(len(matrix[0])):\n",
    "        sub_matrix = get_submatrix(matrix, col)\n",
    "        sign = (-1) ** col\n",
    "        total += sign * matrix[0][col] * determinant(sub_matrix)\n",
    "    return total\n",
    "\n",
    "print(determinant([[1,6,3],[4,7,6],[5,8,10]])) "
   ]
  },
  {
   "cell_type": "code",
   "execution_count": 6,
   "metadata": {},
   "outputs": [
    {
     "name": "stdout",
     "output_type": "stream",
     "text": [
      "0 1 2 3 4 5 6 7 8 9 10 11 "
     ]
    }
   ],
   "source": [
    "\n",
    "for i in range(12):\n",
    "    print(i, end=\" \")"
   ]
  },
  {
   "cell_type": "code",
   "execution_count": 7,
   "metadata": {},
   "outputs": [
    {
     "name": "stdout",
     "output_type": "stream",
     "text": [
      "25\n"
     ]
    }
   ],
   "source": [
    "def apply (func, x):\n",
    "    return func(x)\n",
    "def square(x):\n",
    "    return x * 5\n",
    "\n",
    "print(apply(square, 5))"
   ]
  },
  {
   "cell_type": "code",
   "execution_count": 10,
   "metadata": {},
   "outputs": [
    {
     "name": "stdout",
     "output_type": "stream",
     "text": [
      "120\n"
     ]
    }
   ],
   "source": [
    "def factorial(n):\n",
    "    if n == 0:\n",
    "        return 1\n",
    "    else:\n",
    "        return n * factorial(n-1)\n",
    "print(factorial(5))"
   ]
  }
 ],
 "metadata": {
  "kernelspec": {
   "display_name": ".venv",
   "language": "python",
   "name": "python3"
  },
  "language_info": {
   "codemirror_mode": {
    "name": "ipython",
    "version": 3
   },
   "file_extension": ".py",
   "mimetype": "text/x-python",
   "name": "python",
   "nbconvert_exporter": "python",
   "pygments_lexer": "ipython3",
   "version": "3.12.9"
  }
 },
 "nbformat": 4,
 "nbformat_minor": 2
}
